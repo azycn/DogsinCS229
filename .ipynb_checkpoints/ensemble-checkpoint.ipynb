{
 "cells": [
  {
   "cell_type": "code",
   "execution_count": 476,
   "id": "25ff61b1",
   "metadata": {},
   "outputs": [],
   "source": [
    "import numpy as np\n",
    "import pandas as pd\n",
    "import json\n",
    "\n",
    "import matplotlib.pyplot as plt\n",
    "\n",
    "import torch\n",
    "import torch.nn as nn\n",
    "import torch.nn.functional as F\n",
    "import torch.optim as optim\n",
    "from sklearn.metrics import accuracy_score, cohen_kappa_score, f1_score, classification_report\n",
    "\n",
    "import xgboost as xgb\n",
    "from sklearn.model_selection import StratifiedKFold, train_test_split, GridSearchCV\n",
    "from sklearn.linear_model import LogisticRegression\n",
    "\n",
    "from sklearn.naive_bayes import GaussianNB"
   ]
  },
  {
   "cell_type": "markdown",
   "id": "a8b5c233",
   "metadata": {},
   "source": [
    "## Image Label (Neural Network)"
   ]
  },
  {
   "cell_type": "code",
   "execution_count": null,
   "id": "3d80946b",
   "metadata": {},
   "outputs": [],
   "source": [
    "\"\"\"\n",
    "2 LAYER\n",
    "\n",
    "class Net(nn.Module):\n",
    "\n",
    "    def __init__(self, INPUT_SIZE):\n",
    "        super(Net, self).__init__()\n",
    "        # Input is output of resnet18 image classification model\n",
    "        self.fc1 = nn.Linear(INPUT_SIZE, 500) \n",
    "        self.fc11 = nn.Linear(500, 100)\n",
    "        self.fc2 = nn.Linear(100, 1)\n",
    "        self.act_out = nn.Sigmoid()\n",
    "        self.dropout = nn.Dropout(p=0.25)\n",
    "\n",
    "    def forward(self, x):\n",
    "        x = F.relu(self.fc1(x))\n",
    "        x = self.dropout(x)\n",
    "        x = F.relu(self.fc11(x))\n",
    "        x = self.dropout(x)\n",
    "        x = self.act_out(self.fc2(x))\n",
    "        return x\n",
    "\"\"\""
   ]
  },
  {
   "cell_type": "code",
   "execution_count": null,
   "id": "1b178c50",
   "metadata": {},
   "outputs": [],
   "source": [
    "\"\"\"\n",
    "3 LAYER\n",
    "\n",
    "class Net(nn.Module):\n",
    "\n",
    "    def __init__(self, INPUT_SIZE):\n",
    "        super(Net, self).__init__()\n",
    "        # Input is output of resnet18 image classification model\n",
    "        self.fc1 = nn.Linear(INPUT_SIZE, 750) \n",
    "        self.fc11 = nn.Linear(750, 250)\n",
    "        self.fc2 = nn.Linear(250, 100)\n",
    "        self.fc3 = nn.Linear(100, 1)\n",
    "        self.act_out = nn.Sigmoid()\n",
    "\n",
    "        self.dropout = nn.Dropout(p=0.25)\n",
    "        \n",
    "    def forward(self, x):\n",
    "        x = F.relu(self.fc1(x))\n",
    "        x = self.dropout(x)\n",
    "        x = F.relu(self.fc11(x))\n",
    "        x = self.dropout(x)\n",
    "        x = F.relu(self.fc2(x))\n",
    "        x = self.act_out(self.fc3(x))\n",
    "        return x\n",
    "\"\"\""
   ]
  },
  {
   "cell_type": "code",
   "execution_count": 729,
   "id": "1b866a48",
   "metadata": {},
   "outputs": [],
   "source": [
    "\n",
    "class Net(nn.Module):\n",
    "\n",
    "    def __init__(self, INPUT_SIZE):\n",
    "        super(Net, self).__init__()\n",
    "        # Input is output of resnet18 image classification model\n",
    "        self.fc1 = nn.Linear(INPUT_SIZE, 500) \n",
    "        self.fc11 = nn.Linear(500, 100)\n",
    "        self.fc2 = nn.Linear(100, 1)\n",
    "        self.act_out = nn.Sigmoid()\n",
    "        self.dropout = nn.Dropout(p=0.25)\n",
    "\n",
    "    def forward(self, x):\n",
    "        x = F.relu(self.fc1(x))\n",
    "        x = self.dropout(x)\n",
    "        x = F.relu(self.fc11(x))\n",
    "        x = self.dropout(x)\n",
    "        x = self.act_out(self.fc2(x))\n",
    "        return x\n",
    "\n",
    "\n",
    "def load_dataset_df(label_path):\n",
    "    label = pd.read_csv(label_path)\n",
    "    label = label.drop(columns=['Unnamed: 0'])\n",
    "    dataset = label\n",
    "\n",
    "    # load embeddings\n",
    "    with open('./dataset_work/embeddings.json') as f:\n",
    "        embeddings = json.load(f)\n",
    "    all_embeddings = pd.DataFrame.from_dict(embeddings, orient='index', columns=['embedding'])\n",
    "    all_embeddings.index.name = 'id'\n",
    "    dataset = pd.merge(dataset, all_embeddings, on='id', how='left')\n",
    "\n",
    "    # load personalities\n",
    "    with open('./dataset_work/personalities.json') as f:\n",
    "        personalities = json.load(f)\n",
    "    all_personalities = pd.DataFrame.from_dict(personalities, orient='index', columns=['playfulness', 'chase-proneness', 'curiosity', 'sociability', 'aggressiveness', 'shyness'])\n",
    "    all_personalities.index.name = 'id'\n",
    "    dataset = pd.merge(dataset, all_personalities, on='id', how='left')\n",
    "\n",
    "    return dataset\n",
    "\n",
    "def vectorize_dataset(df, with_personalities, with_embeddings):\n",
    "    if with_personalities and with_embeddings:\n",
    "        cols = df[['embedding','playfulness', 'chase-proneness', 'curiosity', 'sociability', 'aggressiveness', 'shyness']]\n",
    "        x = cols.values\n",
    "        embeddings = x[:,0]\n",
    "        expanded = np.array(embeddings.tolist())\n",
    "        x = np.concatenate((expanded, x[:,1:]), axis=1)\n",
    "        x = np.array(x, dtype='float64')\n",
    "        y = df['label'].values\n",
    "    elif with_embeddings:\n",
    "        cols = df[['embedding','playfulness', 'chase-proneness', 'curiosity', 'sociability', 'aggressiveness', 'shyness']]\n",
    "        x = cols.values\n",
    "        embeddings = x[:,0]\n",
    "        expanded = np.array(embeddings.tolist())\n",
    "        x = expanded\n",
    "        y = df['label'].values\n",
    "    else:\n",
    "        cols = df[['embedding','playfulness', 'chase-proneness', 'curiosity', 'sociability', 'aggressiveness', 'shyness']]\n",
    "        x = cols.values\n",
    "        x = x[:,1:]\n",
    "        x = np.array(x, dtype=\"float64\")\n",
    "        y = df['label'].values\n",
    "    return torch.tensor(x, dtype=torch.float32), torch.tensor(y, dtype=torch.float32).reshape(-1, 1)\n",
    "\n",
    "def load(label_path, with_personalities, with_embeddings):\n",
    "    df = load_dataset_df(label_path)\n",
    "    return vectorize_dataset(df, with_personalities, with_embeddings)\n",
    "\n",
    "def nn_pred(label_path):\n",
    "    # load the weights, trained on only images\n",
    "    # 3 layer train\n",
    "    #PATH = \"trained_models/BEST_MODEL_ALICE/alice_medium_images_True_personalities_False_optm_adam_loss_MSE_EPOCHS_100_BATCH_1000_REG_0.095_LR_0.0001_f1_0.788327619047619\"\n",
    "    # 2 layer train\n",
    "    PATH = \"trained_models/BEST_MODEL_ALICE/ALICE_2_LAYER_BEST_optm_adam_loss_MSE_EPOCHS_100_BATCH_1000_REG_0.09_LR_0.0001_f1_0.7920085561497326\"\n",
    "    train_x_t, train_y_t = load(label_path, with_personalities=False, with_embeddings=True)\n",
    "    model = Net(train_x_t.shape[1])\n",
    "    model.load_state_dict(torch.load(PATH))\n",
    "    model.eval()\n",
    "    return model(train_x_t)"
   ]
  },
  {
   "cell_type": "code",
   "execution_count": 730,
   "id": "ba51c870",
   "metadata": {},
   "outputs": [],
   "source": [
    "nn_preds_t = nn_pred('dataset_work/labels/image_only/alice_train_personalityFalse_imageTrue_labels.csv')\n",
    "train_i = load_dataset_df('./dataset_work/labels/image_only/alice_train_personalityFalse_imageTrue_labels.csv')"
   ]
  },
  {
   "cell_type": "code",
   "execution_count": 731,
   "id": "49aef332",
   "metadata": {},
   "outputs": [
    {
     "name": "stdout",
     "output_type": "stream",
     "text": [
      "              precision    recall  f1-score   support\n",
      "\n",
      "         0.0       0.94      0.85      0.89       253\n",
      "         1.0       0.73      0.89      0.80       122\n",
      "\n",
      "    accuracy                           0.86       375\n",
      "   macro avg       0.84      0.87      0.85       375\n",
      "weighted avg       0.87      0.86      0.86       375\n",
      "\n"
     ]
    }
   ],
   "source": [
    "print(classification_report(nn_preds_t.round().detach().numpy(), train_i['label']))"
   ]
  },
  {
   "cell_type": "code",
   "execution_count": 734,
   "id": "ef408616",
   "metadata": {},
   "outputs": [],
   "source": [
    "nn_preds = nn_pred('dataset_work/labels/image_only/alice_valid_personalityFalse_imageTrue_labels.csv')\n",
    "valid_i = load_dataset_df('./dataset_work/labels/image_only/alice_valid_personalityFalse_imageTrue_labels.csv')\n",
    "#valid_i = load_dataset_df('./dataset_work/labels/image_and_personality/alice_valid_personalityFalse_imageTrue_labels.csv')"
   ]
  },
  {
   "cell_type": "code",
   "execution_count": 735,
   "id": "3692a2fe",
   "metadata": {},
   "outputs": [
    {
     "name": "stdout",
     "output_type": "stream",
     "text": [
      "              precision    recall  f1-score   support\n",
      "\n",
      "         0.0       0.84      0.75      0.80        85\n",
      "         1.0       0.57      0.70      0.63        40\n",
      "\n",
      "    accuracy                           0.74       125\n",
      "   macro avg       0.71      0.73      0.71       125\n",
      "weighted avg       0.76      0.74      0.74       125\n",
      "\n"
     ]
    }
   ],
   "source": [
    "print(classification_report(nn_preds.round().detach().numpy(), valid_i['label']))"
   ]
  },
  {
   "cell_type": "code",
   "execution_count": 736,
   "id": "fc1a8af5",
   "metadata": {},
   "outputs": [
    {
     "data": {
      "text/plain": [
       "125"
      ]
     },
     "execution_count": 736,
     "metadata": {},
     "output_type": "execute_result"
    }
   ],
   "source": [
    "len(nn_preds)"
   ]
  },
  {
   "cell_type": "markdown",
   "id": "221076fb",
   "metadata": {},
   "source": [
    "## Personality Label (Decision Trees)"
   ]
  },
  {
   "cell_type": "code",
   "execution_count": 737,
   "id": "0ce8e0bb",
   "metadata": {},
   "outputs": [],
   "source": [
    "def load_dataset_p(label_path):\n",
    "    label = pd.read_csv(label_path)\n",
    "    label = label.drop(columns=['Unnamed: 0'])\n",
    "    p_file = open('./dataset_work/personalities.json')\n",
    "    personalities = json.load(p_file)\n",
    "    p_file.close()\n",
    "    all_personalities = pd.DataFrame.from_dict(personalities, orient='index', columns=['playfulness', 'chase-proneness', 'curiosity', 'sociability', 'aggressiveness', 'shyness'])\n",
    "    all_personalities['id'] = all_personalities.index\n",
    "    dataset = pd.merge(label, all_personalities, on='id', how='left')\n",
    "    return dataset"
   ]
  },
  {
   "cell_type": "code",
   "execution_count": 738,
   "id": "a7b7bde4",
   "metadata": {},
   "outputs": [],
   "source": [
    "# laod the personality datasets\n",
    "train_p = load_dataset_p('./dataset_work/labels/personality_only/alice_train_personalityTrue_imageFalse_labels.csv')\n",
    "valid_p = load_dataset_p('./dataset_work/labels/personality_only/alice_valid_personalityTrue_imageFalse_labels.csv')\n",
    "test_p = load_dataset_p('./dataset_work/labels/personality_only/alice_test_personalityTrue_imageFalse_labels.csv')"
   ]
  },
  {
   "cell_type": "code",
   "execution_count": 739,
   "id": "5bf2ee7c",
   "metadata": {},
   "outputs": [],
   "source": [
    "def split_dataset(d_df):\n",
    "    _feats = d_df[['playfulness', 'chase-proneness', 'curiosity', 'sociability', 'aggressiveness', 'shyness']]\n",
    "    x = _feats.values\n",
    "    return x, d_df['label'].values"
   ]
  },
  {
   "cell_type": "code",
   "execution_count": 740,
   "id": "086bda3f",
   "metadata": {},
   "outputs": [],
   "source": [
    "X_train_p, y_train_p = split_dataset(train_p)\n",
    "X_valid_p, y_valid_p = split_dataset(valid_p)\n",
    "X_test_p, y_test_p = split_dataset(test_p)"
   ]
  },
  {
   "cell_type": "code",
   "execution_count": 934,
   "id": "1bb1916a",
   "metadata": {},
   "outputs": [
    {
     "data": {
      "text/html": [
       "<style>#sk-container-id-98 {color: black;}#sk-container-id-98 pre{padding: 0;}#sk-container-id-98 div.sk-toggleable {background-color: white;}#sk-container-id-98 label.sk-toggleable__label {cursor: pointer;display: block;width: 100%;margin-bottom: 0;padding: 0.3em;box-sizing: border-box;text-align: center;}#sk-container-id-98 label.sk-toggleable__label-arrow:before {content: \"▸\";float: left;margin-right: 0.25em;color: #696969;}#sk-container-id-98 label.sk-toggleable__label-arrow:hover:before {color: black;}#sk-container-id-98 div.sk-estimator:hover label.sk-toggleable__label-arrow:before {color: black;}#sk-container-id-98 div.sk-toggleable__content {max-height: 0;max-width: 0;overflow: hidden;text-align: left;background-color: #f0f8ff;}#sk-container-id-98 div.sk-toggleable__content pre {margin: 0.2em;color: black;border-radius: 0.25em;background-color: #f0f8ff;}#sk-container-id-98 input.sk-toggleable__control:checked~div.sk-toggleable__content {max-height: 200px;max-width: 100%;overflow: auto;}#sk-container-id-98 input.sk-toggleable__control:checked~label.sk-toggleable__label-arrow:before {content: \"▾\";}#sk-container-id-98 div.sk-estimator input.sk-toggleable__control:checked~label.sk-toggleable__label {background-color: #d4ebff;}#sk-container-id-98 div.sk-label input.sk-toggleable__control:checked~label.sk-toggleable__label {background-color: #d4ebff;}#sk-container-id-98 input.sk-hidden--visually {border: 0;clip: rect(1px 1px 1px 1px);clip: rect(1px, 1px, 1px, 1px);height: 1px;margin: -1px;overflow: hidden;padding: 0;position: absolute;width: 1px;}#sk-container-id-98 div.sk-estimator {font-family: monospace;background-color: #f0f8ff;border: 1px dotted black;border-radius: 0.25em;box-sizing: border-box;margin-bottom: 0.5em;}#sk-container-id-98 div.sk-estimator:hover {background-color: #d4ebff;}#sk-container-id-98 div.sk-parallel-item::after {content: \"\";width: 100%;border-bottom: 1px solid gray;flex-grow: 1;}#sk-container-id-98 div.sk-label:hover label.sk-toggleable__label {background-color: #d4ebff;}#sk-container-id-98 div.sk-serial::before {content: \"\";position: absolute;border-left: 1px solid gray;box-sizing: border-box;top: 0;bottom: 0;left: 50%;z-index: 0;}#sk-container-id-98 div.sk-serial {display: flex;flex-direction: column;align-items: center;background-color: white;padding-right: 0.2em;padding-left: 0.2em;position: relative;}#sk-container-id-98 div.sk-item {position: relative;z-index: 1;}#sk-container-id-98 div.sk-parallel {display: flex;align-items: stretch;justify-content: center;background-color: white;position: relative;}#sk-container-id-98 div.sk-item::before, #sk-container-id-98 div.sk-parallel-item::before {content: \"\";position: absolute;border-left: 1px solid gray;box-sizing: border-box;top: 0;bottom: 0;left: 50%;z-index: -1;}#sk-container-id-98 div.sk-parallel-item {display: flex;flex-direction: column;z-index: 1;position: relative;background-color: white;}#sk-container-id-98 div.sk-parallel-item:first-child::after {align-self: flex-end;width: 50%;}#sk-container-id-98 div.sk-parallel-item:last-child::after {align-self: flex-start;width: 50%;}#sk-container-id-98 div.sk-parallel-item:only-child::after {width: 0;}#sk-container-id-98 div.sk-dashed-wrapped {border: 1px dashed gray;margin: 0 0.4em 0.5em 0.4em;box-sizing: border-box;padding-bottom: 0.4em;background-color: white;}#sk-container-id-98 div.sk-label label {font-family: monospace;font-weight: bold;display: inline-block;line-height: 1.2em;}#sk-container-id-98 div.sk-label-container {text-align: center;}#sk-container-id-98 div.sk-container {/* jupyter's `normalize.less` sets `[hidden] { display: none; }` but bootstrap.min.css set `[hidden] { display: none !important; }` so we also need the `!important` here to be able to override the default hidden behavior on the sphinx rendered scikit-learn.org. See: https://github.com/scikit-learn/scikit-learn/issues/21755 */display: inline-block !important;position: relative;}#sk-container-id-98 div.sk-text-repr-fallback {display: none;}</style><div id=\"sk-container-id-98\" class=\"sk-top-container\"><div class=\"sk-text-repr-fallback\"><pre>GaussianNB()</pre><b>In a Jupyter environment, please rerun this cell to show the HTML representation or trust the notebook. <br />On GitHub, the HTML representation is unable to render, please try loading this page with nbviewer.org.</b></div><div class=\"sk-container\" hidden><div class=\"sk-item\"><div class=\"sk-estimator sk-toggleable\"><input class=\"sk-toggleable__control sk-hidden--visually\" id=\"sk-estimator-id-98\" type=\"checkbox\" checked><label for=\"sk-estimator-id-98\" class=\"sk-toggleable__label sk-toggleable__label-arrow\">GaussianNB</label><div class=\"sk-toggleable__content\"><pre>GaussianNB()</pre></div></div></div></div></div>"
      ],
      "text/plain": [
       "GaussianNB()"
      ]
     },
     "execution_count": 934,
     "metadata": {},
     "output_type": "execute_result"
    }
   ],
   "source": [
    "# add regularization with 'lambda'\n",
    "#personality_model = xgb.XGBClassifier(objective=\"binary:logistic\", random_state=42, n_estimators=35, scale_pos_weight=0.8, reg_lambda=3)\n",
    "\n",
    "personality_model = GaussianNB() # likelihood of the features is assumed to be gaussian\n",
    "personality_model.fit(X_train_p, y_train_p)"
   ]
  },
  {
   "cell_type": "code",
   "execution_count": 935,
   "id": "ae498a79",
   "metadata": {},
   "outputs": [],
   "source": [
    "valid_preds = personality_model.predict(X_valid_p)\n",
    "train_preds = personality_model.predict(X_train_p)\n",
    "test_preds = personality_model.predict(X_test_p)\n",
    "#p_probs = [v[1] for v in valid_preds] # probability of a output label '1'"
   ]
  },
  {
   "cell_type": "code",
   "execution_count": 936,
   "id": "e8ed5672",
   "metadata": {},
   "outputs": [
    {
     "data": {
      "text/plain": [
       "0.752"
      ]
     },
     "execution_count": 936,
     "metadata": {},
     "output_type": "execute_result"
    }
   ],
   "source": [
    "sum(y_valid_p) / len(y_valid_p)"
   ]
  },
  {
   "cell_type": "code",
   "execution_count": 937,
   "id": "5d70df47",
   "metadata": {},
   "outputs": [
    {
     "name": "stdout",
     "output_type": "stream",
     "text": [
      "              precision    recall  f1-score   support\n",
      "\n",
      "           0       0.56      0.89      0.69        57\n",
      "           1       0.98      0.87      0.92       318\n",
      "\n",
      "    accuracy                           0.88       375\n",
      "   macro avg       0.77      0.88      0.81       375\n",
      "weighted avg       0.92      0.88      0.89       375\n",
      "\n"
     ]
    }
   ],
   "source": [
    "print(classification_report(train_preds, y_train_p))"
   ]
  },
  {
   "cell_type": "code",
   "execution_count": 938,
   "id": "ce2fac29",
   "metadata": {},
   "outputs": [
    {
     "name": "stdout",
     "output_type": "stream",
     "text": [
      "              precision    recall  f1-score   support\n",
      "\n",
      "           0       0.55      0.81      0.65        21\n",
      "           1       0.96      0.87      0.91       104\n",
      "\n",
      "    accuracy                           0.86       125\n",
      "   macro avg       0.75      0.84      0.78       125\n",
      "weighted avg       0.89      0.86      0.87       125\n",
      "\n"
     ]
    }
   ],
   "source": [
    "print(classification_report(valid_preds, y_valid_p))"
   ]
  },
  {
   "cell_type": "code",
   "execution_count": 939,
   "id": "c292a94c",
   "metadata": {},
   "outputs": [
    {
     "name": "stdout",
     "output_type": "stream",
     "text": [
      "              precision    recall  f1-score   support\n",
      "\n",
      "           0       0.66      0.92      0.77        25\n",
      "           1       0.98      0.88      0.93        99\n",
      "\n",
      "    accuracy                           0.89       124\n",
      "   macro avg       0.82      0.90      0.85       124\n",
      "weighted avg       0.91      0.89      0.89       124\n",
      "\n"
     ]
    }
   ],
   "source": [
    "print(classification_report(test_preds, y_test_p))"
   ]
  },
  {
   "cell_type": "markdown",
   "id": "77a02c2f",
   "metadata": {},
   "source": [
    "## Putting them together on images + personalities"
   ]
  },
  {
   "cell_type": "code",
   "execution_count": 940,
   "id": "2cc646c0",
   "metadata": {},
   "outputs": [],
   "source": [
    "def gen_final_data(nn_path, p_model, d_b, X_b, out):\n",
    "    # create a 3-vector [breed, NN output, tree output] for the training set  \n",
    "    nn_preds = nn_pred(nn_path)\n",
    "    preds = p_model.predict_proba(X_b) # using the model trained on only personality data\n",
    "    p_preds = [v[1] for v in preds]\n",
    "    dog_ids = d_b['id'].values\n",
    "    breed_ids = [i[1:i.find('_')] for i in dog_ids]\n",
    "    \n",
    "    dog_ids = d_b['id'].values\n",
    "    breed_ids = [i[1:i.find('_')] for i in dog_ids]\n",
    "    breed_to_a = {}\n",
    "    ctr = 0\n",
    "    for breed in breed_ids:\n",
    "        if breed not in breed_to_a:\n",
    "            breed_to_a[breed] = ctr\n",
    "            ctr += 1\n",
    "\n",
    "    processed_breed_ids = [breed_to_a[b] for b in breed_ids]\n",
    "    \n",
    "    #out['breed'] = processed_breed_ids\n",
    "    out['p_out'] = p_preds\n",
    "    out['img_out'] = nn_preds.detach().numpy()\n",
    "    \n",
    "\n",
    "    for breed in breed_to_a.keys():\n",
    "        nc = []\n",
    "        for i in breed_ids:\n",
    "            if i == breed:\n",
    "                #print('y')\n",
    "                nc.append(1)\n",
    "            else:\n",
    "                nc.append(0)\n",
    "        out[breed] = nc\n",
    " "
   ]
  },
  {
   "cell_type": "code",
   "execution_count": 941,
   "id": "1ea9193b",
   "metadata": {},
   "outputs": [],
   "source": [
    "train_b = load_dataset_df('./dataset_work/labels/image_and_personality/alice_train_personalityTrue_imageTrue_labels.csv')\n",
    "valid_b = load_dataset_df('./dataset_work/labels/image_and_personality/alice_valid_personalityTrue_imageTrue_labels.csv')\n",
    "test_b = load_dataset_df('./dataset_work/labels/image_and_personality/alice_test_personalityTrue_imageTrue_labels.csv')\n",
    "\n",
    "X_train_b, y_train_b = split_dataset(train_b)\n",
    "X_valid_b, y_valid_b = split_dataset(valid_b)\n",
    "X_test_b, y_test_b = split_dataset(test_b)"
   ]
  },
  {
   "cell_type": "code",
   "execution_count": 942,
   "id": "026c6792",
   "metadata": {},
   "outputs": [],
   "source": [
    "BOTH_TRAIN_PATH = './dataset_work/labels/image_and_personality/alice_train_personalityTrue_imageTrue_labels.csv'\n",
    "BOTH_VALID_PATH = './dataset_work/labels/image_and_personality/alice_valid_personalityTrue_imageTrue_labels.csv'\n",
    "BOTH_TEST_PATH = './dataset_work/labels/image_and_personality/alice_test_personalityTrue_imageTrue_labels.csv'\n",
    "train_master = pd.DataFrame()\n",
    "valid_master = pd.DataFrame()\n",
    "test_master = pd.DataFrame()\n",
    "gen_final_data(BOTH_TRAIN_PATH, personality_model, train_b, X_train_b, train_master)\n",
    "gen_final_data(BOTH_VALID_PATH, personality_model, valid_b, X_valid_b, valid_master)\n",
    "gen_final_data(BOTH_TEST_PATH, personality_model, test_b, X_test_b, test_master)\n",
    "\n",
    "train_master_X = train_master.values\n",
    "valid_master_X = valid_master.values\n",
    "test_master_X = test_master.values"
   ]
  },
  {
   "cell_type": "code",
   "execution_count": 943,
   "id": "ba959344",
   "metadata": {},
   "outputs": [
    {
     "data": {
      "text/html": [
       "<div>\n",
       "<style scoped>\n",
       "    .dataframe tbody tr th:only-of-type {\n",
       "        vertical-align: middle;\n",
       "    }\n",
       "\n",
       "    .dataframe tbody tr th {\n",
       "        vertical-align: top;\n",
       "    }\n",
       "\n",
       "    .dataframe thead th {\n",
       "        text-align: right;\n",
       "    }\n",
       "</style>\n",
       "<table border=\"1\" class=\"dataframe\">\n",
       "  <thead>\n",
       "    <tr style=\"text-align: right;\">\n",
       "      <th></th>\n",
       "      <th>p_out</th>\n",
       "      <th>img_out</th>\n",
       "      <th>02097209</th>\n",
       "      <th>02099267</th>\n",
       "      <th>02091467</th>\n",
       "      <th>02087046</th>\n",
       "      <th>02096585</th>\n",
       "      <th>02106382</th>\n",
       "      <th>02107908</th>\n",
       "      <th>02091635</th>\n",
       "      <th>...</th>\n",
       "      <th>02088364</th>\n",
       "      <th>02100236</th>\n",
       "      <th>02094114</th>\n",
       "      <th>02115641</th>\n",
       "      <th>02099712</th>\n",
       "      <th>02100877</th>\n",
       "      <th>02106030</th>\n",
       "      <th>02113624</th>\n",
       "      <th>02110185</th>\n",
       "      <th>02093647</th>\n",
       "    </tr>\n",
       "  </thead>\n",
       "  <tbody>\n",
       "    <tr>\n",
       "      <th>0</th>\n",
       "      <td>0.934127</td>\n",
       "      <td>0.561628</td>\n",
       "      <td>1</td>\n",
       "      <td>0</td>\n",
       "      <td>0</td>\n",
       "      <td>0</td>\n",
       "      <td>0</td>\n",
       "      <td>0</td>\n",
       "      <td>0</td>\n",
       "      <td>0</td>\n",
       "      <td>...</td>\n",
       "      <td>0</td>\n",
       "      <td>0</td>\n",
       "      <td>0</td>\n",
       "      <td>0</td>\n",
       "      <td>0</td>\n",
       "      <td>0</td>\n",
       "      <td>0</td>\n",
       "      <td>0</td>\n",
       "      <td>0</td>\n",
       "      <td>0</td>\n",
       "    </tr>\n",
       "    <tr>\n",
       "      <th>1</th>\n",
       "      <td>0.010844</td>\n",
       "      <td>0.270346</td>\n",
       "      <td>0</td>\n",
       "      <td>1</td>\n",
       "      <td>0</td>\n",
       "      <td>0</td>\n",
       "      <td>0</td>\n",
       "      <td>0</td>\n",
       "      <td>0</td>\n",
       "      <td>0</td>\n",
       "      <td>...</td>\n",
       "      <td>0</td>\n",
       "      <td>0</td>\n",
       "      <td>0</td>\n",
       "      <td>0</td>\n",
       "      <td>0</td>\n",
       "      <td>0</td>\n",
       "      <td>0</td>\n",
       "      <td>0</td>\n",
       "      <td>0</td>\n",
       "      <td>0</td>\n",
       "    </tr>\n",
       "    <tr>\n",
       "      <th>2</th>\n",
       "      <td>0.592269</td>\n",
       "      <td>0.633707</td>\n",
       "      <td>0</td>\n",
       "      <td>0</td>\n",
       "      <td>1</td>\n",
       "      <td>0</td>\n",
       "      <td>0</td>\n",
       "      <td>0</td>\n",
       "      <td>0</td>\n",
       "      <td>0</td>\n",
       "      <td>...</td>\n",
       "      <td>0</td>\n",
       "      <td>0</td>\n",
       "      <td>0</td>\n",
       "      <td>0</td>\n",
       "      <td>0</td>\n",
       "      <td>0</td>\n",
       "      <td>0</td>\n",
       "      <td>0</td>\n",
       "      <td>0</td>\n",
       "      <td>0</td>\n",
       "    </tr>\n",
       "    <tr>\n",
       "      <th>3</th>\n",
       "      <td>0.829378</td>\n",
       "      <td>0.296303</td>\n",
       "      <td>0</td>\n",
       "      <td>0</td>\n",
       "      <td>0</td>\n",
       "      <td>1</td>\n",
       "      <td>0</td>\n",
       "      <td>0</td>\n",
       "      <td>0</td>\n",
       "      <td>0</td>\n",
       "      <td>...</td>\n",
       "      <td>0</td>\n",
       "      <td>0</td>\n",
       "      <td>0</td>\n",
       "      <td>0</td>\n",
       "      <td>0</td>\n",
       "      <td>0</td>\n",
       "      <td>0</td>\n",
       "      <td>0</td>\n",
       "      <td>0</td>\n",
       "      <td>0</td>\n",
       "    </tr>\n",
       "    <tr>\n",
       "      <th>4</th>\n",
       "      <td>0.743417</td>\n",
       "      <td>0.575307</td>\n",
       "      <td>0</td>\n",
       "      <td>0</td>\n",
       "      <td>0</td>\n",
       "      <td>0</td>\n",
       "      <td>1</td>\n",
       "      <td>0</td>\n",
       "      <td>0</td>\n",
       "      <td>0</td>\n",
       "      <td>...</td>\n",
       "      <td>0</td>\n",
       "      <td>0</td>\n",
       "      <td>0</td>\n",
       "      <td>0</td>\n",
       "      <td>0</td>\n",
       "      <td>0</td>\n",
       "      <td>0</td>\n",
       "      <td>0</td>\n",
       "      <td>0</td>\n",
       "      <td>0</td>\n",
       "    </tr>\n",
       "    <tr>\n",
       "      <th>...</th>\n",
       "      <td>...</td>\n",
       "      <td>...</td>\n",
       "      <td>...</td>\n",
       "      <td>...</td>\n",
       "      <td>...</td>\n",
       "      <td>...</td>\n",
       "      <td>...</td>\n",
       "      <td>...</td>\n",
       "      <td>...</td>\n",
       "      <td>...</td>\n",
       "      <td>...</td>\n",
       "      <td>...</td>\n",
       "      <td>...</td>\n",
       "      <td>...</td>\n",
       "      <td>...</td>\n",
       "      <td>...</td>\n",
       "      <td>...</td>\n",
       "      <td>...</td>\n",
       "      <td>...</td>\n",
       "      <td>...</td>\n",
       "      <td>...</td>\n",
       "    </tr>\n",
       "    <tr>\n",
       "      <th>119</th>\n",
       "      <td>0.856508</td>\n",
       "      <td>0.446371</td>\n",
       "      <td>0</td>\n",
       "      <td>0</td>\n",
       "      <td>0</td>\n",
       "      <td>0</td>\n",
       "      <td>0</td>\n",
       "      <td>0</td>\n",
       "      <td>0</td>\n",
       "      <td>0</td>\n",
       "      <td>...</td>\n",
       "      <td>0</td>\n",
       "      <td>0</td>\n",
       "      <td>0</td>\n",
       "      <td>0</td>\n",
       "      <td>0</td>\n",
       "      <td>0</td>\n",
       "      <td>0</td>\n",
       "      <td>0</td>\n",
       "      <td>1</td>\n",
       "      <td>0</td>\n",
       "    </tr>\n",
       "    <tr>\n",
       "      <th>120</th>\n",
       "      <td>0.397103</td>\n",
       "      <td>0.187637</td>\n",
       "      <td>0</td>\n",
       "      <td>0</td>\n",
       "      <td>0</td>\n",
       "      <td>1</td>\n",
       "      <td>0</td>\n",
       "      <td>0</td>\n",
       "      <td>0</td>\n",
       "      <td>0</td>\n",
       "      <td>...</td>\n",
       "      <td>0</td>\n",
       "      <td>0</td>\n",
       "      <td>0</td>\n",
       "      <td>0</td>\n",
       "      <td>0</td>\n",
       "      <td>0</td>\n",
       "      <td>0</td>\n",
       "      <td>0</td>\n",
       "      <td>0</td>\n",
       "      <td>0</td>\n",
       "    </tr>\n",
       "    <tr>\n",
       "      <th>121</th>\n",
       "      <td>0.520248</td>\n",
       "      <td>0.531577</td>\n",
       "      <td>0</td>\n",
       "      <td>0</td>\n",
       "      <td>0</td>\n",
       "      <td>0</td>\n",
       "      <td>0</td>\n",
       "      <td>0</td>\n",
       "      <td>0</td>\n",
       "      <td>0</td>\n",
       "      <td>...</td>\n",
       "      <td>0</td>\n",
       "      <td>0</td>\n",
       "      <td>0</td>\n",
       "      <td>0</td>\n",
       "      <td>0</td>\n",
       "      <td>0</td>\n",
       "      <td>0</td>\n",
       "      <td>0</td>\n",
       "      <td>0</td>\n",
       "      <td>0</td>\n",
       "    </tr>\n",
       "    <tr>\n",
       "      <th>122</th>\n",
       "      <td>0.917519</td>\n",
       "      <td>0.151803</td>\n",
       "      <td>0</td>\n",
       "      <td>0</td>\n",
       "      <td>0</td>\n",
       "      <td>0</td>\n",
       "      <td>0</td>\n",
       "      <td>0</td>\n",
       "      <td>0</td>\n",
       "      <td>0</td>\n",
       "      <td>...</td>\n",
       "      <td>0</td>\n",
       "      <td>0</td>\n",
       "      <td>0</td>\n",
       "      <td>0</td>\n",
       "      <td>0</td>\n",
       "      <td>0</td>\n",
       "      <td>0</td>\n",
       "      <td>0</td>\n",
       "      <td>0</td>\n",
       "      <td>1</td>\n",
       "    </tr>\n",
       "    <tr>\n",
       "      <th>123</th>\n",
       "      <td>0.885739</td>\n",
       "      <td>0.272599</td>\n",
       "      <td>0</td>\n",
       "      <td>1</td>\n",
       "      <td>0</td>\n",
       "      <td>0</td>\n",
       "      <td>0</td>\n",
       "      <td>0</td>\n",
       "      <td>0</td>\n",
       "      <td>0</td>\n",
       "      <td>...</td>\n",
       "      <td>0</td>\n",
       "      <td>0</td>\n",
       "      <td>0</td>\n",
       "      <td>0</td>\n",
       "      <td>0</td>\n",
       "      <td>0</td>\n",
       "      <td>0</td>\n",
       "      <td>0</td>\n",
       "      <td>0</td>\n",
       "      <td>0</td>\n",
       "    </tr>\n",
       "  </tbody>\n",
       "</table>\n",
       "<p>124 rows × 27 columns</p>\n",
       "</div>"
      ],
      "text/plain": [
       "        p_out   img_out  02097209  02099267  02091467  02087046  02096585  \\\n",
       "0    0.934127  0.561628         1         0         0         0         0   \n",
       "1    0.010844  0.270346         0         1         0         0         0   \n",
       "2    0.592269  0.633707         0         0         1         0         0   \n",
       "3    0.829378  0.296303         0         0         0         1         0   \n",
       "4    0.743417  0.575307         0         0         0         0         1   \n",
       "..        ...       ...       ...       ...       ...       ...       ...   \n",
       "119  0.856508  0.446371         0         0         0         0         0   \n",
       "120  0.397103  0.187637         0         0         0         1         0   \n",
       "121  0.520248  0.531577         0         0         0         0         0   \n",
       "122  0.917519  0.151803         0         0         0         0         0   \n",
       "123  0.885739  0.272599         0         1         0         0         0   \n",
       "\n",
       "     02106382  02107908  02091635  ...  02088364  02100236  02094114  \\\n",
       "0           0         0         0  ...         0         0         0   \n",
       "1           0         0         0  ...         0         0         0   \n",
       "2           0         0         0  ...         0         0         0   \n",
       "3           0         0         0  ...         0         0         0   \n",
       "4           0         0         0  ...         0         0         0   \n",
       "..        ...       ...       ...  ...       ...       ...       ...   \n",
       "119         0         0         0  ...         0         0         0   \n",
       "120         0         0         0  ...         0         0         0   \n",
       "121         0         0         0  ...         0         0         0   \n",
       "122         0         0         0  ...         0         0         0   \n",
       "123         0         0         0  ...         0         0         0   \n",
       "\n",
       "     02115641  02099712  02100877  02106030  02113624  02110185  02093647  \n",
       "0           0         0         0         0         0         0         0  \n",
       "1           0         0         0         0         0         0         0  \n",
       "2           0         0         0         0         0         0         0  \n",
       "3           0         0         0         0         0         0         0  \n",
       "4           0         0         0         0         0         0         0  \n",
       "..        ...       ...       ...       ...       ...       ...       ...  \n",
       "119         0         0         0         0         0         1         0  \n",
       "120         0         0         0         0         0         0         0  \n",
       "121         0         0         0         0         0         0         0  \n",
       "122         0         0         0         0         0         0         1  \n",
       "123         0         0         0         0         0         0         0  \n",
       "\n",
       "[124 rows x 27 columns]"
      ]
     },
     "execution_count": 943,
     "metadata": {},
     "output_type": "execute_result"
    }
   ],
   "source": [
    "test_master"
   ]
  },
  {
   "cell_type": "code",
   "execution_count": 971,
   "id": "1f3ce9cf",
   "metadata": {},
   "outputs": [
    {
     "data": {
      "text/html": [
       "<style>#sk-container-id-102 {color: black;}#sk-container-id-102 pre{padding: 0;}#sk-container-id-102 div.sk-toggleable {background-color: white;}#sk-container-id-102 label.sk-toggleable__label {cursor: pointer;display: block;width: 100%;margin-bottom: 0;padding: 0.3em;box-sizing: border-box;text-align: center;}#sk-container-id-102 label.sk-toggleable__label-arrow:before {content: \"▸\";float: left;margin-right: 0.25em;color: #696969;}#sk-container-id-102 label.sk-toggleable__label-arrow:hover:before {color: black;}#sk-container-id-102 div.sk-estimator:hover label.sk-toggleable__label-arrow:before {color: black;}#sk-container-id-102 div.sk-toggleable__content {max-height: 0;max-width: 0;overflow: hidden;text-align: left;background-color: #f0f8ff;}#sk-container-id-102 div.sk-toggleable__content pre {margin: 0.2em;color: black;border-radius: 0.25em;background-color: #f0f8ff;}#sk-container-id-102 input.sk-toggleable__control:checked~div.sk-toggleable__content {max-height: 200px;max-width: 100%;overflow: auto;}#sk-container-id-102 input.sk-toggleable__control:checked~label.sk-toggleable__label-arrow:before {content: \"▾\";}#sk-container-id-102 div.sk-estimator input.sk-toggleable__control:checked~label.sk-toggleable__label {background-color: #d4ebff;}#sk-container-id-102 div.sk-label input.sk-toggleable__control:checked~label.sk-toggleable__label {background-color: #d4ebff;}#sk-container-id-102 input.sk-hidden--visually {border: 0;clip: rect(1px 1px 1px 1px);clip: rect(1px, 1px, 1px, 1px);height: 1px;margin: -1px;overflow: hidden;padding: 0;position: absolute;width: 1px;}#sk-container-id-102 div.sk-estimator {font-family: monospace;background-color: #f0f8ff;border: 1px dotted black;border-radius: 0.25em;box-sizing: border-box;margin-bottom: 0.5em;}#sk-container-id-102 div.sk-estimator:hover {background-color: #d4ebff;}#sk-container-id-102 div.sk-parallel-item::after {content: \"\";width: 100%;border-bottom: 1px solid gray;flex-grow: 1;}#sk-container-id-102 div.sk-label:hover label.sk-toggleable__label {background-color: #d4ebff;}#sk-container-id-102 div.sk-serial::before {content: \"\";position: absolute;border-left: 1px solid gray;box-sizing: border-box;top: 0;bottom: 0;left: 50%;z-index: 0;}#sk-container-id-102 div.sk-serial {display: flex;flex-direction: column;align-items: center;background-color: white;padding-right: 0.2em;padding-left: 0.2em;position: relative;}#sk-container-id-102 div.sk-item {position: relative;z-index: 1;}#sk-container-id-102 div.sk-parallel {display: flex;align-items: stretch;justify-content: center;background-color: white;position: relative;}#sk-container-id-102 div.sk-item::before, #sk-container-id-102 div.sk-parallel-item::before {content: \"\";position: absolute;border-left: 1px solid gray;box-sizing: border-box;top: 0;bottom: 0;left: 50%;z-index: -1;}#sk-container-id-102 div.sk-parallel-item {display: flex;flex-direction: column;z-index: 1;position: relative;background-color: white;}#sk-container-id-102 div.sk-parallel-item:first-child::after {align-self: flex-end;width: 50%;}#sk-container-id-102 div.sk-parallel-item:last-child::after {align-self: flex-start;width: 50%;}#sk-container-id-102 div.sk-parallel-item:only-child::after {width: 0;}#sk-container-id-102 div.sk-dashed-wrapped {border: 1px dashed gray;margin: 0 0.4em 0.5em 0.4em;box-sizing: border-box;padding-bottom: 0.4em;background-color: white;}#sk-container-id-102 div.sk-label label {font-family: monospace;font-weight: bold;display: inline-block;line-height: 1.2em;}#sk-container-id-102 div.sk-label-container {text-align: center;}#sk-container-id-102 div.sk-container {/* jupyter's `normalize.less` sets `[hidden] { display: none; }` but bootstrap.min.css set `[hidden] { display: none !important; }` so we also need the `!important` here to be able to override the default hidden behavior on the sphinx rendered scikit-learn.org. See: https://github.com/scikit-learn/scikit-learn/issues/21755 */display: inline-block !important;position: relative;}#sk-container-id-102 div.sk-text-repr-fallback {display: none;}</style><div id=\"sk-container-id-102\" class=\"sk-top-container\"><div class=\"sk-text-repr-fallback\"><pre>XGBClassifier(base_score=None, booster=&#x27;gbtree&#x27;, callbacks=None,\n",
       "              colsample_bylevel=None, colsample_bynode=None,\n",
       "              colsample_bytree=None, early_stopping_rounds=None,\n",
       "              enable_categorical=False, eval_metric=None, feature_types=None,\n",
       "              gamma=None, gpu_id=None, grow_policy=None, importance_type=None,\n",
       "              interaction_constraints=None, learning_rate=None, max_bin=None,\n",
       "              max_cat_threshold=None, max_cat_to_onehot=None,\n",
       "              max_delta_step=None, max_depth=None, max_leaves=None,\n",
       "              min_child_weight=None, missing=nan, monotone_constraints=None,\n",
       "              n_estimators=20, n_jobs=None, num_parallel_tree=None,\n",
       "              predictor=None, random_state=42, ...)</pre><b>In a Jupyter environment, please rerun this cell to show the HTML representation or trust the notebook. <br />On GitHub, the HTML representation is unable to render, please try loading this page with nbviewer.org.</b></div><div class=\"sk-container\" hidden><div class=\"sk-item\"><div class=\"sk-estimator sk-toggleable\"><input class=\"sk-toggleable__control sk-hidden--visually\" id=\"sk-estimator-id-102\" type=\"checkbox\" checked><label for=\"sk-estimator-id-102\" class=\"sk-toggleable__label sk-toggleable__label-arrow\">XGBClassifier</label><div class=\"sk-toggleable__content\"><pre>XGBClassifier(base_score=None, booster=&#x27;gbtree&#x27;, callbacks=None,\n",
       "              colsample_bylevel=None, colsample_bynode=None,\n",
       "              colsample_bytree=None, early_stopping_rounds=None,\n",
       "              enable_categorical=False, eval_metric=None, feature_types=None,\n",
       "              gamma=None, gpu_id=None, grow_policy=None, importance_type=None,\n",
       "              interaction_constraints=None, learning_rate=None, max_bin=None,\n",
       "              max_cat_threshold=None, max_cat_to_onehot=None,\n",
       "              max_delta_step=None, max_depth=None, max_leaves=None,\n",
       "              min_child_weight=None, missing=nan, monotone_constraints=None,\n",
       "              n_estimators=20, n_jobs=None, num_parallel_tree=None,\n",
       "              predictor=None, random_state=42, ...)</pre></div></div></div></div></div>"
      ],
      "text/plain": [
       "XGBClassifier(base_score=None, booster='gbtree', callbacks=None,\n",
       "              colsample_bylevel=None, colsample_bynode=None,\n",
       "              colsample_bytree=None, early_stopping_rounds=None,\n",
       "              enable_categorical=False, eval_metric=None, feature_types=None,\n",
       "              gamma=None, gpu_id=None, grow_policy=None, importance_type=None,\n",
       "              interaction_constraints=None, learning_rate=None, max_bin=None,\n",
       "              max_cat_threshold=None, max_cat_to_onehot=None,\n",
       "              max_delta_step=None, max_depth=None, max_leaves=None,\n",
       "              min_child_weight=None, missing=nan, monotone_constraints=None,\n",
       "              n_estimators=20, n_jobs=None, num_parallel_tree=None,\n",
       "              predictor=None, random_state=42, ...)"
      ]
     },
     "execution_count": 971,
     "metadata": {},
     "output_type": "execute_result"
    }
   ],
   "source": [
    "master_model = xgb.XGBClassifier(objective=\"binary:logistic\",  booster='gbtree', random_state=42, n_estimators=20, scale_pos_weight=1.15, reg_lambda=1.5)\n",
    "#master_model = LogisticRegression()\n",
    "master_model.fit(train_master_X, y_train_b)"
   ]
  },
  {
   "cell_type": "code",
   "execution_count": 972,
   "id": "8b42d86e",
   "metadata": {},
   "outputs": [
    {
     "data": {
      "text/plain": [
       "0.41333333333333333"
      ]
     },
     "execution_count": 972,
     "metadata": {},
     "output_type": "execute_result"
    }
   ],
   "source": [
    "sum(y_train_b) / len(y_train_b)"
   ]
  },
  {
   "cell_type": "code",
   "execution_count": 973,
   "id": "955dacf6",
   "metadata": {},
   "outputs": [],
   "source": [
    "final_train_preds = master_model.predict(train_master_X)"
   ]
  },
  {
   "cell_type": "code",
   "execution_count": 974,
   "id": "6c7cbbef",
   "metadata": {},
   "outputs": [
    {
     "name": "stdout",
     "output_type": "stream",
     "text": [
      "              precision    recall  f1-score   support\n",
      "\n",
      "           0       0.95      0.92      0.94       220\n",
      "           1       0.89      0.93      0.91       155\n",
      "\n",
      "    accuracy                           0.93       375\n",
      "   macro avg       0.92      0.93      0.92       375\n",
      "weighted avg       0.93      0.93      0.93       375\n",
      "\n"
     ]
    }
   ],
   "source": [
    "print(classification_report(y_train_b, final_train_preds))"
   ]
  },
  {
   "cell_type": "code",
   "execution_count": 975,
   "id": "f9617e66",
   "metadata": {},
   "outputs": [],
   "source": [
    "final_valid_preds = master_model.predict(valid_master_X)"
   ]
  },
  {
   "cell_type": "code",
   "execution_count": 976,
   "id": "7b0df760",
   "metadata": {},
   "outputs": [
    {
     "name": "stdout",
     "output_type": "stream",
     "text": [
      "              precision    recall  f1-score   support\n",
      "\n",
      "           0       0.73      0.73      0.73        79\n",
      "           1       0.54      0.54      0.54        46\n",
      "\n",
      "    accuracy                           0.66       125\n",
      "   macro avg       0.64      0.64      0.64       125\n",
      "weighted avg       0.66      0.66      0.66       125\n",
      "\n"
     ]
    }
   ],
   "source": [
    "print(classification_report(y_valid_b, final_valid_preds))"
   ]
  },
  {
   "cell_type": "code",
   "execution_count": 977,
   "id": "f7b89581",
   "metadata": {},
   "outputs": [],
   "source": [
    "final_test_preds = master_model.predict(test_master_X)"
   ]
  },
  {
   "cell_type": "code",
   "execution_count": 978,
   "id": "fed68eb4",
   "metadata": {},
   "outputs": [
    {
     "data": {
      "text/plain": [
       "0.4596774193548387"
      ]
     },
     "execution_count": 978,
     "metadata": {},
     "output_type": "execute_result"
    }
   ],
   "source": [
    "sum(final_test_preds) / len(final_test_preds)"
   ]
  },
  {
   "cell_type": "code",
   "execution_count": 979,
   "id": "ec734f8b",
   "metadata": {},
   "outputs": [
    {
     "name": "stdout",
     "output_type": "stream",
     "text": [
      "              precision    recall  f1-score   support\n",
      "\n",
      "           0       0.85      0.76      0.80        75\n",
      "           1       0.68      0.80      0.74        49\n",
      "\n",
      "    accuracy                           0.77       124\n",
      "   macro avg       0.77      0.78      0.77       124\n",
      "weighted avg       0.78      0.77      0.78       124\n",
      "\n"
     ]
    }
   ],
   "source": [
    "print(classification_report(y_test_b, final_test_preds))"
   ]
  },
  {
   "cell_type": "code",
   "execution_count": 870,
   "id": "7a49927f",
   "metadata": {},
   "outputs": [],
   "source": [
    "# Vrushank to-do: \n",
    "# refactor data, use k-fold"
   ]
  },
  {
   "cell_type": "code",
   "execution_count": null,
   "id": "4c0a5d03",
   "metadata": {},
   "outputs": [],
   "source": []
  }
 ],
 "metadata": {
  "kernelspec": {
   "display_name": "Python 3 (ipykernel)",
   "language": "python",
   "name": "python3"
  },
  "language_info": {
   "codemirror_mode": {
    "name": "ipython",
    "version": 3
   },
   "file_extension": ".py",
   "mimetype": "text/x-python",
   "name": "python",
   "nbconvert_exporter": "python",
   "pygments_lexer": "ipython3",
   "version": "3.11.6"
  }
 },
 "nbformat": 4,
 "nbformat_minor": 5
}
