{
 "cells": [
  {
   "cell_type": "code",
   "execution_count": 261,
   "id": "cf175ab0",
   "metadata": {},
   "outputs": [],
   "source": [
    "import numpy as np\n",
    "import pandas as pd\n",
    "import json\n",
    "\n",
    "import matplotlib.pyplot as plt\n",
    "\n",
    "import torch\n",
    "import torch.nn as nn\n",
    "import torch.nn.functional as F\n",
    "import torch.optim as optim\n",
    "from sklearn.metrics import accuracy_score, cohen_kappa_score, f1_score, classification_report\n",
    "\n",
    "import xgboost as xgb\n",
    "from sklearn.model_selection import StratifiedKFold, train_test_split, GridSearchCV\n"
   ]
  },
  {
   "cell_type": "markdown",
   "id": "5b668bb0",
   "metadata": {},
   "source": [
    "## Image Label (Neural Network)"
   ]
  },
  {
   "cell_type": "code",
   "execution_count": 466,
   "id": "1f8068fe",
   "metadata": {},
   "outputs": [],
   "source": [
    "class Net(nn.Module):\n",
    "    def __init__(self, INPUT_SIZE):\n",
    "        super(Net, self).__init__()\n",
    "        # Input is output of resnet18 image classification model\n",
    "        self.fc1 = nn.Linear(INPUT_SIZE, 500) \n",
    "        self.fc11 = nn.Linear(500, 100)\n",
    "        self.fc2 = nn.Linear(100, 1)\n",
    "        self.act_out = nn.Sigmoid()\n",
    "\n",
    "    def forward(self, x):\n",
    "        x = F.relu(self.fc1(x))\n",
    "        x = F.relu(self.fc11(x))\n",
    "        x = self.act_out(self.fc2(x))\n",
    "        return x\n",
    "\n",
    "\n",
    "def load_dataset_df(label_path):\n",
    "    label = pd.read_csv(label_path)\n",
    "    label = label.drop(columns=['Unnamed: 0'])\n",
    "    dataset = label\n",
    "\n",
    "    # load embeddings\n",
    "    with open('./dataset_work/embeddings.json') as f:\n",
    "        embeddings = json.load(f)\n",
    "    all_embeddings = pd.DataFrame.from_dict(embeddings, orient='index', columns=['embedding'])\n",
    "    all_embeddings.index.name = 'id'\n",
    "    dataset = pd.merge(dataset, all_embeddings, on='id', how='left')\n",
    "\n",
    "    # load personalities\n",
    "    with open('./dataset_work/personalities.json') as f:\n",
    "        personalities = json.load(f)\n",
    "    all_personalities = pd.DataFrame.from_dict(personalities, orient='index', columns=['playfulness', 'chase-proneness', 'curiosity', 'sociability', 'aggressiveness', 'shyness'])\n",
    "    all_personalities.index.name = 'id'\n",
    "    dataset = pd.merge(dataset, all_personalities, on='id', how='left')\n",
    "\n",
    "    return dataset\n",
    "\n",
    "def vectorize_dataset(df, with_personalities, with_embeddings):\n",
    "    if with_personalities and with_embeddings:\n",
    "        cols = df[['embedding','playfulness', 'chase-proneness', 'curiosity', 'sociability', 'aggressiveness', 'shyness']]\n",
    "        x = cols.values\n",
    "        embeddings = x[:,0]\n",
    "        expanded = np.array(embeddings.tolist())\n",
    "        x = np.concatenate((expanded, x[:,1:]), axis=1)\n",
    "        x = np.array(x, dtype='float64')\n",
    "        y = df['label'].values\n",
    "    elif with_embeddings:\n",
    "        cols = df[['embedding','playfulness', 'chase-proneness', 'curiosity', 'sociability', 'aggressiveness', 'shyness']]\n",
    "        x = cols.values\n",
    "        embeddings = x[:,0]\n",
    "        expanded = np.array(embeddings.tolist())\n",
    "        x = expanded\n",
    "        y = df['label'].values\n",
    "    else:\n",
    "        cols = df[['embedding','playfulness', 'chase-proneness', 'curiosity', 'sociability', 'aggressiveness', 'shyness']]\n",
    "        x = cols.values\n",
    "        x = x[:,1:]\n",
    "        x = np.array(x, dtype=\"float64\")\n",
    "        y = df['label'].values\n",
    "    return torch.tensor(x, dtype=torch.float32), torch.tensor(y, dtype=torch.float32).reshape(-1, 1)\n",
    "\n",
    "def load(label_path, with_personalities, with_embeddings):\n",
    "    df = load_dataset_df(label_path)\n",
    "    return vectorize_dataset(df, with_personalities, with_embeddings)\n",
    "\n",
    "def nn_pred(df):\n",
    "    # load the weights, trained on only images\n",
    "    PATH = \"trained_models/alice_medium_images_True_personalities_False_optm_adam_loss_MSE_EPOCHS_150_BATCH_1000_REG_0.001_LR_0.0001_f1_0.7230682829943155\"\n",
    "    #train_x_t, train_y_t = load(label_path, with_personalities=False, with_embeddings=True)\n",
    "    train_x_t, train_y_t = vectorize_dataset(df, with_personalities=False, with_embeddings=True)\n",
    "    model = Net(train_x_t.shape[1])\n",
    "    model.load_state_dict(torch.load(PATH))\n",
    "    model.eval()\n",
    "    return model(train_x_t)"
   ]
  },
  {
   "cell_type": "code",
   "execution_count": 263,
   "id": "fe0435b2",
   "metadata": {},
   "outputs": [],
   "source": [
    "nn_preds = nn_pred('dataset_work/labels/image_only/alice_train_personalityFalse_imageTrue_labels.csv')"
   ]
  },
  {
   "cell_type": "code",
   "execution_count": 264,
   "id": "e18f47fb",
   "metadata": {},
   "outputs": [
    {
     "data": {
      "text/plain": [
       "375"
      ]
     },
     "execution_count": 264,
     "metadata": {},
     "output_type": "execute_result"
    }
   ],
   "source": [
    "len(nn_preds)"
   ]
  },
  {
   "cell_type": "markdown",
   "id": "c44629fb",
   "metadata": {},
   "source": [
    "## Personality Label (Decision Trees)"
   ]
  },
  {
   "cell_type": "code",
   "execution_count": 418,
   "id": "c5232683",
   "metadata": {},
   "outputs": [],
   "source": [
    "def load_dataset_p(label_path):\n",
    "    label = pd.read_csv(label_path)\n",
    "    label = label.drop(columns=['Unnamed: 0'])\n",
    "    p_file = open('./dataset_work/personalities.json')\n",
    "    personalities = json.load(p_file)\n",
    "    p_file.close()\n",
    "    all_personalities = pd.DataFrame.from_dict(personalities, orient='index', columns=['playfulness', 'chase-proneness', 'curiosity', 'sociability', 'aggressiveness', 'shyness'])\n",
    "    all_personalities['id'] = all_personalities.index\n",
    "    dataset = pd.merge(label, all_personalities, on='id', how='left')\n",
    "    return dataset"
   ]
  },
  {
   "cell_type": "code",
   "execution_count": 419,
   "id": "67572841",
   "metadata": {},
   "outputs": [],
   "source": [
    "# laod the personality datasets\n",
    "train_p = load_dataset_p('./dataset_work/labels/personality_only/alice_train_personalityTrue_imageFalse_labels.csv')\n",
    "valid_p = load_dataset_p('./dataset_work/labels/personality_only/alice_valid_personalityTrue_imageFalse_labels.csv')\n",
    "test_p = load_dataset_p('./dataset_work/labels/personality_only/alice_test_personalityTrue_imageFalse_labels.csv')"
   ]
  },
  {
   "cell_type": "code",
   "execution_count": 420,
   "id": "2d62f849",
   "metadata": {},
   "outputs": [],
   "source": [
    "def split_dataset(d_df):\n",
    "    _feats = d_df[['playfulness', 'chase-proneness', 'curiosity', 'sociability', 'aggressiveness', 'shyness']]\n",
    "    x = _feats.values\n",
    "    return x, d_df['label'].values"
   ]
  },
  {
   "cell_type": "code",
   "execution_count": 421,
   "id": "0ed9129a",
   "metadata": {},
   "outputs": [],
   "source": [
    "X_train_p, y_train_p = split_dataset(train_p)\n",
    "X_valid_p, y_valid_p = split_dataset(valid_p)\n",
    "X_test_p, y_test_p = split_dataset(test_p)"
   ]
  },
  {
   "cell_type": "code",
   "execution_count": 422,
   "id": "7e99aa66",
   "metadata": {},
   "outputs": [
    {
     "data": {
      "text/html": [
       "<style>#sk-container-id-39 {color: black;}#sk-container-id-39 pre{padding: 0;}#sk-container-id-39 div.sk-toggleable {background-color: white;}#sk-container-id-39 label.sk-toggleable__label {cursor: pointer;display: block;width: 100%;margin-bottom: 0;padding: 0.3em;box-sizing: border-box;text-align: center;}#sk-container-id-39 label.sk-toggleable__label-arrow:before {content: \"▸\";float: left;margin-right: 0.25em;color: #696969;}#sk-container-id-39 label.sk-toggleable__label-arrow:hover:before {color: black;}#sk-container-id-39 div.sk-estimator:hover label.sk-toggleable__label-arrow:before {color: black;}#sk-container-id-39 div.sk-toggleable__content {max-height: 0;max-width: 0;overflow: hidden;text-align: left;background-color: #f0f8ff;}#sk-container-id-39 div.sk-toggleable__content pre {margin: 0.2em;color: black;border-radius: 0.25em;background-color: #f0f8ff;}#sk-container-id-39 input.sk-toggleable__control:checked~div.sk-toggleable__content {max-height: 200px;max-width: 100%;overflow: auto;}#sk-container-id-39 input.sk-toggleable__control:checked~label.sk-toggleable__label-arrow:before {content: \"▾\";}#sk-container-id-39 div.sk-estimator input.sk-toggleable__control:checked~label.sk-toggleable__label {background-color: #d4ebff;}#sk-container-id-39 div.sk-label input.sk-toggleable__control:checked~label.sk-toggleable__label {background-color: #d4ebff;}#sk-container-id-39 input.sk-hidden--visually {border: 0;clip: rect(1px 1px 1px 1px);clip: rect(1px, 1px, 1px, 1px);height: 1px;margin: -1px;overflow: hidden;padding: 0;position: absolute;width: 1px;}#sk-container-id-39 div.sk-estimator {font-family: monospace;background-color: #f0f8ff;border: 1px dotted black;border-radius: 0.25em;box-sizing: border-box;margin-bottom: 0.5em;}#sk-container-id-39 div.sk-estimator:hover {background-color: #d4ebff;}#sk-container-id-39 div.sk-parallel-item::after {content: \"\";width: 100%;border-bottom: 1px solid gray;flex-grow: 1;}#sk-container-id-39 div.sk-label:hover label.sk-toggleable__label {background-color: #d4ebff;}#sk-container-id-39 div.sk-serial::before {content: \"\";position: absolute;border-left: 1px solid gray;box-sizing: border-box;top: 0;bottom: 0;left: 50%;z-index: 0;}#sk-container-id-39 div.sk-serial {display: flex;flex-direction: column;align-items: center;background-color: white;padding-right: 0.2em;padding-left: 0.2em;position: relative;}#sk-container-id-39 div.sk-item {position: relative;z-index: 1;}#sk-container-id-39 div.sk-parallel {display: flex;align-items: stretch;justify-content: center;background-color: white;position: relative;}#sk-container-id-39 div.sk-item::before, #sk-container-id-39 div.sk-parallel-item::before {content: \"\";position: absolute;border-left: 1px solid gray;box-sizing: border-box;top: 0;bottom: 0;left: 50%;z-index: -1;}#sk-container-id-39 div.sk-parallel-item {display: flex;flex-direction: column;z-index: 1;position: relative;background-color: white;}#sk-container-id-39 div.sk-parallel-item:first-child::after {align-self: flex-end;width: 50%;}#sk-container-id-39 div.sk-parallel-item:last-child::after {align-self: flex-start;width: 50%;}#sk-container-id-39 div.sk-parallel-item:only-child::after {width: 0;}#sk-container-id-39 div.sk-dashed-wrapped {border: 1px dashed gray;margin: 0 0.4em 0.5em 0.4em;box-sizing: border-box;padding-bottom: 0.4em;background-color: white;}#sk-container-id-39 div.sk-label label {font-family: monospace;font-weight: bold;display: inline-block;line-height: 1.2em;}#sk-container-id-39 div.sk-label-container {text-align: center;}#sk-container-id-39 div.sk-container {/* jupyter's `normalize.less` sets `[hidden] { display: none; }` but bootstrap.min.css set `[hidden] { display: none !important; }` so we also need the `!important` here to be able to override the default hidden behavior on the sphinx rendered scikit-learn.org. See: https://github.com/scikit-learn/scikit-learn/issues/21755 */display: inline-block !important;position: relative;}#sk-container-id-39 div.sk-text-repr-fallback {display: none;}</style><div id=\"sk-container-id-39\" class=\"sk-top-container\"><div class=\"sk-text-repr-fallback\"><pre>XGBClassifier(base_score=None, booster=None, callbacks=None,\n",
       "              colsample_bylevel=None, colsample_bynode=None,\n",
       "              colsample_bytree=None, early_stopping_rounds=None,\n",
       "              enable_categorical=False, eval_metric=None, feature_types=None,\n",
       "              gamma=None, gpu_id=None, grow_policy=None, importance_type=None,\n",
       "              interaction_constraints=None, learning_rate=None, max_bin=None,\n",
       "              max_cat_threshold=None, max_cat_to_onehot=None,\n",
       "              max_delta_step=None, max_depth=None, max_leaves=None,\n",
       "              min_child_weight=None, missing=nan, monotone_constraints=None,\n",
       "              n_estimators=50, n_jobs=None, num_parallel_tree=None,\n",
       "              predictor=None, random_state=42, ...)</pre><b>In a Jupyter environment, please rerun this cell to show the HTML representation or trust the notebook. <br />On GitHub, the HTML representation is unable to render, please try loading this page with nbviewer.org.</b></div><div class=\"sk-container\" hidden><div class=\"sk-item\"><div class=\"sk-estimator sk-toggleable\"><input class=\"sk-toggleable__control sk-hidden--visually\" id=\"sk-estimator-id-39\" type=\"checkbox\" checked><label for=\"sk-estimator-id-39\" class=\"sk-toggleable__label sk-toggleable__label-arrow\">XGBClassifier</label><div class=\"sk-toggleable__content\"><pre>XGBClassifier(base_score=None, booster=None, callbacks=None,\n",
       "              colsample_bylevel=None, colsample_bynode=None,\n",
       "              colsample_bytree=None, early_stopping_rounds=None,\n",
       "              enable_categorical=False, eval_metric=None, feature_types=None,\n",
       "              gamma=None, gpu_id=None, grow_policy=None, importance_type=None,\n",
       "              interaction_constraints=None, learning_rate=None, max_bin=None,\n",
       "              max_cat_threshold=None, max_cat_to_onehot=None,\n",
       "              max_delta_step=None, max_depth=None, max_leaves=None,\n",
       "              min_child_weight=None, missing=nan, monotone_constraints=None,\n",
       "              n_estimators=50, n_jobs=None, num_parallel_tree=None,\n",
       "              predictor=None, random_state=42, ...)</pre></div></div></div></div></div>"
      ],
      "text/plain": [
       "XGBClassifier(base_score=None, booster=None, callbacks=None,\n",
       "              colsample_bylevel=None, colsample_bynode=None,\n",
       "              colsample_bytree=None, early_stopping_rounds=None,\n",
       "              enable_categorical=False, eval_metric=None, feature_types=None,\n",
       "              gamma=None, gpu_id=None, grow_policy=None, importance_type=None,\n",
       "              interaction_constraints=None, learning_rate=None, max_bin=None,\n",
       "              max_cat_threshold=None, max_cat_to_onehot=None,\n",
       "              max_delta_step=None, max_depth=None, max_leaves=None,\n",
       "              min_child_weight=None, missing=nan, monotone_constraints=None,\n",
       "              n_estimators=50, n_jobs=None, num_parallel_tree=None,\n",
       "              predictor=None, random_state=42, ...)"
      ]
     },
     "execution_count": 422,
     "metadata": {},
     "output_type": "execute_result"
    }
   ],
   "source": [
    "# add regularization with 'lambda'\n",
    "personality_model = xgb.XGBClassifier(objective=\"binary:logistic\", random_state=42, n_estimators=50, scale_pos_weight=0.8)\n",
    "personality_model.fit(X_train_p, y_train_p)"
   ]
  },
  {
   "cell_type": "code",
   "execution_count": 413,
   "id": "901fc93a",
   "metadata": {},
   "outputs": [],
   "source": [
    "valid_preds = personality_model.predict_proba(X_valid_p)\n",
    "p_probs = [v[1] for v in valid_preds] # probability of a output label '1'"
   ]
  },
  {
   "cell_type": "markdown",
   "id": "37d03347",
   "metadata": {},
   "source": [
    "## Putting them together on images + personalities"
   ]
  },
  {
   "cell_type": "code",
   "execution_count": 549,
   "id": "4cb0f9e7",
   "metadata": {},
   "outputs": [],
   "source": [
    "def split_dataset_full(d_df):\n",
    "    _feats = d_df[['id', 'embedding','playfulness', 'chase-proneness', 'curiosity', 'sociability', 'aggressiveness', 'shyness']]\n",
    "    x = _feats\n",
    "    return x, d_df['label']"
   ]
  },
  {
   "cell_type": "code",
   "execution_count": 550,
   "id": "636b2cf7",
   "metadata": {},
   "outputs": [],
   "source": [
    "train_b = load_dataset_df('./dataset_work/labels/image_and_personality/alice_train_personalityTrue_imageTrue_labels.csv')\n",
    "valid_b = load_dataset_df('./dataset_work/labels/image_and_personality/alice_valid_personalityTrue_imageTrue_labels.csv')\n",
    "test_b = load_dataset_df('./dataset_work/labels/image_and_personality/alice_test_personalityTrue_imageTrue_labels.csv')\n",
    "\n",
    "# X_train_b, y_train_b = split_dataset(train_b)\n",
    "# X_valid_b, y_valid_b = split_dataset(valid_b)\n",
    "# X_test_b, y_test_b = split_dataset(test_b)"
   ]
  },
  {
   "cell_type": "code",
   "execution_count": 551,
   "id": "da3b2d37",
   "metadata": {},
   "outputs": [],
   "source": [
    "a = train_b._append(valid_b)._append(test_b)"
   ]
  },
  {
   "cell_type": "code",
   "execution_count": 552,
   "id": "09369956",
   "metadata": {},
   "outputs": [
    {
     "name": "stdout",
     "output_type": "stream",
     "text": [
      "True\n"
     ]
    }
   ],
   "source": [
    "print(len(pd.unique(a['id']))  == len(a))"
   ]
  },
  {
   "cell_type": "code",
   "execution_count": 553,
   "id": "431493e1",
   "metadata": {},
   "outputs": [],
   "source": [
    "all_data_X, all_data_y = split_dataset_full(a)\n",
    "#all_data_X"
   ]
  },
  {
   "cell_type": "code",
   "execution_count": 554,
   "id": "d1676200",
   "metadata": {},
   "outputs": [],
   "source": [
    "eng_X_train, eng_X_test, eng_y_train, eng_y_test = train_test_split(all_data_X, all_data_y, test_size=0.3, random_state=30)"
   ]
  },
  {
   "cell_type": "code",
   "execution_count": 555,
   "id": "5f02a6f7",
   "metadata": {},
   "outputs": [
    {
     "data": {
      "text/plain": [
       "436"
      ]
     },
     "execution_count": 555,
     "metadata": {},
     "output_type": "execute_result"
    }
   ],
   "source": [
    "# predictions for the neural network\n",
    "\n",
    "idf = eng_X_train\n",
    "idf['label'] = eng_y_train\n",
    "len(nn_pred(idf))"
   ]
  },
  {
   "cell_type": "code",
   "execution_count": 556,
   "id": "3de0ebf7",
   "metadata": {},
   "outputs": [
    {
     "data": {
      "text/plain": [
       "436"
      ]
     },
     "execution_count": 556,
     "metadata": {},
     "output_type": "execute_result"
    }
   ],
   "source": [
    "p_out = personality_model.predict_proba(eng_X_train[['playfulness', 'chase-proneness', 'curiosity', 'sociability', 'aggressiveness', 'shyness']])\n",
    "len(p_out)"
   ]
  },
  {
   "cell_type": "code",
   "execution_count": 557,
   "id": "e198c81a",
   "metadata": {},
   "outputs": [],
   "source": [
    "def gen_final_data(p_model, together_df, out):\n",
    "    img_preds = nn_pred(together_df)\n",
    "    personality_preds = personality_model.predict_proba(together_df[['playfulness', 'chase-proneness', 'curiosity', 'sociability', 'aggressiveness', 'shyness']])\n",
    "    personality_preds = [v[1] for v in personality_preds]\n",
    "    \n",
    "    dog_ids = together_df['id'].values\n",
    "    breed_ids = [i[1:i.find('_')] for i in dog_ids]\n",
    "    \n",
    "    dog_ids = together_df['id'].values\n",
    "    breed_ids = [i[1:i.find('_')] for i in dog_ids]\n",
    "    breed_to_a = {}\n",
    "    ctr = 0\n",
    "    for breed in breed_ids:\n",
    "        if breed not in breed_to_a:\n",
    "            breed_to_a[breed] = ctr\n",
    "            ctr += 1\n",
    "\n",
    "    processed_breed_ids = [breed_to_a[b] for b in breed_ids]\n",
    "    out['breed'] = processed_breed_ids\n",
    "    out['p_out'] = personality_preds\n",
    "    out['img_out'] = img_preds.detach().numpy()"
   ]
  },
  {
   "cell_type": "code",
   "execution_count": 558,
   "id": "c112f490",
   "metadata": {},
   "outputs": [
    {
     "data": {
      "text/plain": [
       "True"
      ]
     },
     "execution_count": 558,
     "metadata": {},
     "output_type": "execute_result"
    }
   ],
   "source": [
    "train_master = pd.DataFrame()\n",
    "test_master = pd.DataFrame()\n",
    "\n",
    "together_train = eng_X_train\n",
    "together_train['label'] = eng_y_train\n",
    "\n",
    "together_test = eng_X_test\n",
    "together_test['label'] = eng_y_test\n",
    "\n",
    "gen_final_data(personality_model, together_train, train_master)\n",
    "gen_final_data(personality_model, together_test, test_master)\n",
    "len(test_master) + len(train_master) == len(a)"
   ]
  },
  {
   "cell_type": "code",
   "execution_count": 559,
   "id": "576d7c8e",
   "metadata": {},
   "outputs": [
    {
     "data": {
      "text/html": [
       "<style>#sk-container-id-43 {color: black;}#sk-container-id-43 pre{padding: 0;}#sk-container-id-43 div.sk-toggleable {background-color: white;}#sk-container-id-43 label.sk-toggleable__label {cursor: pointer;display: block;width: 100%;margin-bottom: 0;padding: 0.3em;box-sizing: border-box;text-align: center;}#sk-container-id-43 label.sk-toggleable__label-arrow:before {content: \"▸\";float: left;margin-right: 0.25em;color: #696969;}#sk-container-id-43 label.sk-toggleable__label-arrow:hover:before {color: black;}#sk-container-id-43 div.sk-estimator:hover label.sk-toggleable__label-arrow:before {color: black;}#sk-container-id-43 div.sk-toggleable__content {max-height: 0;max-width: 0;overflow: hidden;text-align: left;background-color: #f0f8ff;}#sk-container-id-43 div.sk-toggleable__content pre {margin: 0.2em;color: black;border-radius: 0.25em;background-color: #f0f8ff;}#sk-container-id-43 input.sk-toggleable__control:checked~div.sk-toggleable__content {max-height: 200px;max-width: 100%;overflow: auto;}#sk-container-id-43 input.sk-toggleable__control:checked~label.sk-toggleable__label-arrow:before {content: \"▾\";}#sk-container-id-43 div.sk-estimator input.sk-toggleable__control:checked~label.sk-toggleable__label {background-color: #d4ebff;}#sk-container-id-43 div.sk-label input.sk-toggleable__control:checked~label.sk-toggleable__label {background-color: #d4ebff;}#sk-container-id-43 input.sk-hidden--visually {border: 0;clip: rect(1px 1px 1px 1px);clip: rect(1px, 1px, 1px, 1px);height: 1px;margin: -1px;overflow: hidden;padding: 0;position: absolute;width: 1px;}#sk-container-id-43 div.sk-estimator {font-family: monospace;background-color: #f0f8ff;border: 1px dotted black;border-radius: 0.25em;box-sizing: border-box;margin-bottom: 0.5em;}#sk-container-id-43 div.sk-estimator:hover {background-color: #d4ebff;}#sk-container-id-43 div.sk-parallel-item::after {content: \"\";width: 100%;border-bottom: 1px solid gray;flex-grow: 1;}#sk-container-id-43 div.sk-label:hover label.sk-toggleable__label {background-color: #d4ebff;}#sk-container-id-43 div.sk-serial::before {content: \"\";position: absolute;border-left: 1px solid gray;box-sizing: border-box;top: 0;bottom: 0;left: 50%;z-index: 0;}#sk-container-id-43 div.sk-serial {display: flex;flex-direction: column;align-items: center;background-color: white;padding-right: 0.2em;padding-left: 0.2em;position: relative;}#sk-container-id-43 div.sk-item {position: relative;z-index: 1;}#sk-container-id-43 div.sk-parallel {display: flex;align-items: stretch;justify-content: center;background-color: white;position: relative;}#sk-container-id-43 div.sk-item::before, #sk-container-id-43 div.sk-parallel-item::before {content: \"\";position: absolute;border-left: 1px solid gray;box-sizing: border-box;top: 0;bottom: 0;left: 50%;z-index: -1;}#sk-container-id-43 div.sk-parallel-item {display: flex;flex-direction: column;z-index: 1;position: relative;background-color: white;}#sk-container-id-43 div.sk-parallel-item:first-child::after {align-self: flex-end;width: 50%;}#sk-container-id-43 div.sk-parallel-item:last-child::after {align-self: flex-start;width: 50%;}#sk-container-id-43 div.sk-parallel-item:only-child::after {width: 0;}#sk-container-id-43 div.sk-dashed-wrapped {border: 1px dashed gray;margin: 0 0.4em 0.5em 0.4em;box-sizing: border-box;padding-bottom: 0.4em;background-color: white;}#sk-container-id-43 div.sk-label label {font-family: monospace;font-weight: bold;display: inline-block;line-height: 1.2em;}#sk-container-id-43 div.sk-label-container {text-align: center;}#sk-container-id-43 div.sk-container {/* jupyter's `normalize.less` sets `[hidden] { display: none; }` but bootstrap.min.css set `[hidden] { display: none !important; }` so we also need the `!important` here to be able to override the default hidden behavior on the sphinx rendered scikit-learn.org. See: https://github.com/scikit-learn/scikit-learn/issues/21755 */display: inline-block !important;position: relative;}#sk-container-id-43 div.sk-text-repr-fallback {display: none;}</style><div id=\"sk-container-id-43\" class=\"sk-top-container\"><div class=\"sk-text-repr-fallback\"><pre>XGBClassifier(base_score=None, booster=&#x27;gbtree&#x27;, callbacks=None,\n",
       "              colsample_bylevel=None, colsample_bynode=None,\n",
       "              colsample_bytree=None, early_stopping_rounds=None,\n",
       "              enable_categorical=False, eval_metric=None, feature_types=None,\n",
       "              gamma=None, gpu_id=None, grow_policy=None, importance_type=None,\n",
       "              interaction_constraints=None, learning_rate=None, max_bin=None,\n",
       "              max_cat_threshold=None, max_cat_to_onehot=None,\n",
       "              max_delta_step=None, max_depth=None, max_leaves=None,\n",
       "              min_child_weight=None, missing=nan, monotone_constraints=None,\n",
       "              n_estimators=20, n_jobs=None, num_parallel_tree=None,\n",
       "              predictor=None, random_state=42, ...)</pre><b>In a Jupyter environment, please rerun this cell to show the HTML representation or trust the notebook. <br />On GitHub, the HTML representation is unable to render, please try loading this page with nbviewer.org.</b></div><div class=\"sk-container\" hidden><div class=\"sk-item\"><div class=\"sk-estimator sk-toggleable\"><input class=\"sk-toggleable__control sk-hidden--visually\" id=\"sk-estimator-id-43\" type=\"checkbox\" checked><label for=\"sk-estimator-id-43\" class=\"sk-toggleable__label sk-toggleable__label-arrow\">XGBClassifier</label><div class=\"sk-toggleable__content\"><pre>XGBClassifier(base_score=None, booster=&#x27;gbtree&#x27;, callbacks=None,\n",
       "              colsample_bylevel=None, colsample_bynode=None,\n",
       "              colsample_bytree=None, early_stopping_rounds=None,\n",
       "              enable_categorical=False, eval_metric=None, feature_types=None,\n",
       "              gamma=None, gpu_id=None, grow_policy=None, importance_type=None,\n",
       "              interaction_constraints=None, learning_rate=None, max_bin=None,\n",
       "              max_cat_threshold=None, max_cat_to_onehot=None,\n",
       "              max_delta_step=None, max_depth=None, max_leaves=None,\n",
       "              min_child_weight=None, missing=nan, monotone_constraints=None,\n",
       "              n_estimators=20, n_jobs=None, num_parallel_tree=None,\n",
       "              predictor=None, random_state=42, ...)</pre></div></div></div></div></div>"
      ],
      "text/plain": [
       "XGBClassifier(base_score=None, booster='gbtree', callbacks=None,\n",
       "              colsample_bylevel=None, colsample_bynode=None,\n",
       "              colsample_bytree=None, early_stopping_rounds=None,\n",
       "              enable_categorical=False, eval_metric=None, feature_types=None,\n",
       "              gamma=None, gpu_id=None, grow_policy=None, importance_type=None,\n",
       "              interaction_constraints=None, learning_rate=None, max_bin=None,\n",
       "              max_cat_threshold=None, max_cat_to_onehot=None,\n",
       "              max_delta_step=None, max_depth=None, max_leaves=None,\n",
       "              min_child_weight=None, missing=nan, monotone_constraints=None,\n",
       "              n_estimators=20, n_jobs=None, num_parallel_tree=None,\n",
       "              predictor=None, random_state=42, ...)"
      ]
     },
     "execution_count": 559,
     "metadata": {},
     "output_type": "execute_result"
    }
   ],
   "source": [
    "master_model = xgb.XGBClassifier(objective=\"binary:logistic\",  booster='gbtree', random_state=42, n_estimators=20, scale_pos_weight=1, reg_lambda=1.1)\n",
    "master_model.fit(train_master, eng_y_train)"
   ]
  },
  {
   "cell_type": "code",
   "execution_count": 560,
   "id": "b2ec429c",
   "metadata": {},
   "outputs": [
    {
     "name": "stdout",
     "output_type": "stream",
     "text": [
      "              precision    recall  f1-score   support\n",
      "\n",
      "           0       0.94      0.93      0.93       260\n",
      "           1       0.89      0.91      0.90       176\n",
      "\n",
      "    accuracy                           0.92       436\n",
      "   macro avg       0.92      0.92      0.92       436\n",
      "weighted avg       0.92      0.92      0.92       436\n",
      "\n"
     ]
    }
   ],
   "source": [
    "master_pred_test = master_model.predict(train_master)\n",
    "print(classification_report(eng_y_train, master_pred_test))"
   ]
  },
  {
   "cell_type": "code",
   "execution_count": 561,
   "id": "c3b823fd",
   "metadata": {},
   "outputs": [
    {
     "name": "stdout",
     "output_type": "stream",
     "text": [
      "              precision    recall  f1-score   support\n",
      "\n",
      "           0       0.77      0.82      0.79       114\n",
      "           1       0.69      0.62      0.65        74\n",
      "\n",
      "    accuracy                           0.74       188\n",
      "   macro avg       0.73      0.72      0.72       188\n",
      "weighted avg       0.74      0.74      0.74       188\n",
      "\n"
     ]
    }
   ],
   "source": [
    "master_preds = master_model.predict(test_master)\n",
    "print(classification_report(eng_y_test, master_preds))"
   ]
  },
  {
   "cell_type": "markdown",
   "id": "13c2851f",
   "metadata": {},
   "source": [
    "## "
   ]
  },
  {
   "cell_type": "code",
   "execution_count": 544,
   "id": "62cb7797",
   "metadata": {},
   "outputs": [],
   "source": [
    "def gen_final_data(nn_path, p_model, d_b, X_b, out):\n",
    "    # create a 3-vector [breed, NN output, tree output] for the training set  \n",
    "    nn_preds = nn_pred(nn_path)\n",
    "    preds = p_model.predict_proba(X_b) # using the model trained on only personality data\n",
    "    p_preds = [v[1] for v in preds]\n",
    "    dog_ids = d_b['id'].values\n",
    "    breed_ids = [i[1:i.find('_')] for i in dog_ids]\n",
    "    \n",
    "    dog_ids = d_b['id'].values\n",
    "    breed_ids = [i[1:i.find('_')] for i in dog_ids]\n",
    "    breed_to_a = {}\n",
    "    ctr = 0\n",
    "    for breed in breed_ids:\n",
    "        if breed not in breed_to_a:\n",
    "            breed_to_a[breed] = ctr\n",
    "            ctr += 1\n",
    "\n",
    "    processed_breed_ids = [breed_to_a[b] for b in breed_ids]\n",
    "    \n",
    "    out['breed'] = processed_breed_ids\n",
    "    out['p_out'] = p_preds\n",
    "    out['img_out'] = nn_preds.detach().numpy()\n"
   ]
  },
  {
   "cell_type": "code",
   "execution_count": 545,
   "id": "9b3614a5",
   "metadata": {},
   "outputs": [
    {
     "ename": "TypeError",
     "evalue": "string indices must be integers, not 'list'",
     "output_type": "error",
     "traceback": [
      "\u001b[0;31m---------------------------------------------------------------------------\u001b[0m",
      "\u001b[0;31mTypeError\u001b[0m                                 Traceback (most recent call last)",
      "Cell \u001b[0;32mIn[545], line 7\u001b[0m\n\u001b[1;32m      5\u001b[0m valid_master \u001b[38;5;241m=\u001b[39m pd\u001b[38;5;241m.\u001b[39mDataFrame()\n\u001b[1;32m      6\u001b[0m test_master \u001b[38;5;241m=\u001b[39m pd\u001b[38;5;241m.\u001b[39mDataFrame()\n\u001b[0;32m----> 7\u001b[0m \u001b[43mgen_final_data\u001b[49m\u001b[43m(\u001b[49m\u001b[43mBOTH_TRAIN_PATH\u001b[49m\u001b[43m,\u001b[49m\u001b[43m \u001b[49m\u001b[43mpersonality_model\u001b[49m\u001b[43m,\u001b[49m\u001b[43m \u001b[49m\u001b[43mtrain_b\u001b[49m\u001b[43m,\u001b[49m\u001b[43m \u001b[49m\u001b[43mX_train_b\u001b[49m\u001b[43m,\u001b[49m\u001b[43m \u001b[49m\u001b[43mtrain_master\u001b[49m\u001b[43m)\u001b[49m\n\u001b[1;32m      8\u001b[0m gen_final_data(BOTH_VALID_PATH, personality_model, valid_b, X_valid_b, valid_master)\n\u001b[1;32m      9\u001b[0m gen_final_data(BOTH_TEST_PATH, personality_model, test_b, X_test_b, test_master)\n",
      "Cell \u001b[0;32mIn[544], line 3\u001b[0m, in \u001b[0;36mgen_final_data\u001b[0;34m(nn_path, p_model, d_b, X_b, out)\u001b[0m\n\u001b[1;32m      1\u001b[0m \u001b[38;5;28;01mdef\u001b[39;00m \u001b[38;5;21mgen_final_data\u001b[39m(nn_path, p_model, d_b, X_b, out):\n\u001b[1;32m      2\u001b[0m     \u001b[38;5;66;03m# create a 3-vector [breed, NN output, tree output] for the training set  \u001b[39;00m\n\u001b[0;32m----> 3\u001b[0m     nn_preds \u001b[38;5;241m=\u001b[39m \u001b[43mnn_pred\u001b[49m\u001b[43m(\u001b[49m\u001b[43mnn_path\u001b[49m\u001b[43m)\u001b[49m\n\u001b[1;32m      4\u001b[0m     preds \u001b[38;5;241m=\u001b[39m p_model\u001b[38;5;241m.\u001b[39mpredict_proba(X_b) \u001b[38;5;66;03m# using the model trained on only personality data\u001b[39;00m\n\u001b[1;32m      5\u001b[0m     p_preds \u001b[38;5;241m=\u001b[39m [v[\u001b[38;5;241m1\u001b[39m] \u001b[38;5;28;01mfor\u001b[39;00m v \u001b[38;5;129;01min\u001b[39;00m preds]\n",
      "Cell \u001b[0;32mIn[466], line 70\u001b[0m, in \u001b[0;36mnn_pred\u001b[0;34m(df)\u001b[0m\n\u001b[1;32m     68\u001b[0m PATH \u001b[38;5;241m=\u001b[39m \u001b[38;5;124m\"\u001b[39m\u001b[38;5;124mtrained_models/alice_medium_images_True_personalities_False_optm_adam_loss_MSE_EPOCHS_150_BATCH_1000_REG_0.001_LR_0.0001_f1_0.7230682829943155\u001b[39m\u001b[38;5;124m\"\u001b[39m\n\u001b[1;32m     69\u001b[0m \u001b[38;5;66;03m#train_x_t, train_y_t = load(label_path, with_personalities=False, with_embeddings=True)\u001b[39;00m\n\u001b[0;32m---> 70\u001b[0m train_x_t, train_y_t \u001b[38;5;241m=\u001b[39m \u001b[43mvectorize_dataset\u001b[49m\u001b[43m(\u001b[49m\u001b[43mdf\u001b[49m\u001b[43m,\u001b[49m\u001b[43m \u001b[49m\u001b[43mwith_personalities\u001b[49m\u001b[38;5;241;43m=\u001b[39;49m\u001b[38;5;28;43;01mFalse\u001b[39;49;00m\u001b[43m,\u001b[49m\u001b[43m \u001b[49m\u001b[43mwith_embeddings\u001b[49m\u001b[38;5;241;43m=\u001b[39;49m\u001b[38;5;28;43;01mTrue\u001b[39;49;00m\u001b[43m)\u001b[49m\n\u001b[1;32m     71\u001b[0m model \u001b[38;5;241m=\u001b[39m Net(train_x_t\u001b[38;5;241m.\u001b[39mshape[\u001b[38;5;241m1\u001b[39m])\n\u001b[1;32m     72\u001b[0m model\u001b[38;5;241m.\u001b[39mload_state_dict(torch\u001b[38;5;241m.\u001b[39mload(PATH))\n",
      "Cell \u001b[0;32mIn[466], line 48\u001b[0m, in \u001b[0;36mvectorize_dataset\u001b[0;34m(df, with_personalities, with_embeddings)\u001b[0m\n\u001b[1;32m     46\u001b[0m     y \u001b[38;5;241m=\u001b[39m df[\u001b[38;5;124m'\u001b[39m\u001b[38;5;124mlabel\u001b[39m\u001b[38;5;124m'\u001b[39m]\u001b[38;5;241m.\u001b[39mvalues\n\u001b[1;32m     47\u001b[0m \u001b[38;5;28;01melif\u001b[39;00m with_embeddings:\n\u001b[0;32m---> 48\u001b[0m     cols \u001b[38;5;241m=\u001b[39m \u001b[43mdf\u001b[49m\u001b[43m[\u001b[49m\u001b[43m[\u001b[49m\u001b[38;5;124;43m'\u001b[39;49m\u001b[38;5;124;43membedding\u001b[39;49m\u001b[38;5;124;43m'\u001b[39;49m\u001b[43m,\u001b[49m\u001b[38;5;124;43m'\u001b[39;49m\u001b[38;5;124;43mplayfulness\u001b[39;49m\u001b[38;5;124;43m'\u001b[39;49m\u001b[43m,\u001b[49m\u001b[43m \u001b[49m\u001b[38;5;124;43m'\u001b[39;49m\u001b[38;5;124;43mchase-proneness\u001b[39;49m\u001b[38;5;124;43m'\u001b[39;49m\u001b[43m,\u001b[49m\u001b[43m \u001b[49m\u001b[38;5;124;43m'\u001b[39;49m\u001b[38;5;124;43mcuriosity\u001b[39;49m\u001b[38;5;124;43m'\u001b[39;49m\u001b[43m,\u001b[49m\u001b[43m \u001b[49m\u001b[38;5;124;43m'\u001b[39;49m\u001b[38;5;124;43msociability\u001b[39;49m\u001b[38;5;124;43m'\u001b[39;49m\u001b[43m,\u001b[49m\u001b[43m \u001b[49m\u001b[38;5;124;43m'\u001b[39;49m\u001b[38;5;124;43maggressiveness\u001b[39;49m\u001b[38;5;124;43m'\u001b[39;49m\u001b[43m,\u001b[49m\u001b[43m \u001b[49m\u001b[38;5;124;43m'\u001b[39;49m\u001b[38;5;124;43mshyness\u001b[39;49m\u001b[38;5;124;43m'\u001b[39;49m\u001b[43m]\u001b[49m\u001b[43m]\u001b[49m\n\u001b[1;32m     49\u001b[0m     x \u001b[38;5;241m=\u001b[39m cols\u001b[38;5;241m.\u001b[39mvalues\n\u001b[1;32m     50\u001b[0m     embeddings \u001b[38;5;241m=\u001b[39m x[:,\u001b[38;5;241m0\u001b[39m]\n",
      "\u001b[0;31mTypeError\u001b[0m: string indices must be integers, not 'list'"
     ]
    }
   ],
   "source": [
    "BOTH_TRAIN_PATH = './dataset_work/labels/image_and_personality/alice_train_personalityTrue_imageTrue_labels.csv'\n",
    "BOTH_VALID_PATH = './dataset_work/labels/image_and_personality/alice_valid_personalityTrue_imageTrue_labels.csv'\n",
    "BOTH_TEST_PATH = './dataset_work/labels/image_and_personality/alice_test_personalityTrue_imageTrue_labels.csv'\n",
    "train_master = pd.DataFrame()\n",
    "valid_master = pd.DataFrame()\n",
    "test_master = pd.DataFrame()\n",
    "gen_final_data(BOTH_TRAIN_PATH, personality_model, train_b, X_train_b, train_master)\n",
    "gen_final_data(BOTH_VALID_PATH, personality_model, valid_b, X_valid_b, valid_master)\n",
    "gen_final_data(BOTH_TEST_PATH, personality_model, test_b, X_test_b, test_master)\n",
    "\n",
    "train_master_X = train_master.values\n",
    "valid_master_X = valid_master.values\n",
    "test_master_X = test_master.values"
   ]
  },
  {
   "cell_type": "code",
   "execution_count": 372,
   "id": "4d84fcdf",
   "metadata": {},
   "outputs": [
    {
     "ename": "SyntaxError",
     "evalue": "invalid syntax. Perhaps you forgot a comma? (2252057175.py, line 1)",
     "output_type": "error",
     "traceback": [
      "\u001b[0;36m  Cell \u001b[0;32mIn[372], line 1\u001b[0;36m\u001b[0m\n\u001b[0;31m    master_model = xgb.XGBClassifier(objective=\"binary:logistic\",  booster='gbtree', random_state=42, n_estimators=20, scale_pos_weight=1 reg_lambda=1.1)\u001b[0m\n\u001b[0m                                                                                                                                        ^\u001b[0m\n\u001b[0;31mSyntaxError\u001b[0m\u001b[0;31m:\u001b[0m invalid syntax. Perhaps you forgot a comma?\n"
     ]
    }
   ],
   "source": [
    "master_model = xgb.XGBClassifier(objective=\"binary:logistic\",  booster='gbtree', random_state=42, n_estimators=20, scale_pos_weight=1 reg_lambda=1.1)\n",
    "master_model.fit(train_master_X, y_train_b)"
   ]
  },
  {
   "cell_type": "code",
   "execution_count": 373,
   "id": "5306ab67",
   "metadata": {},
   "outputs": [
    {
     "data": {
      "text/plain": [
       "0.41333333333333333"
      ]
     },
     "execution_count": 373,
     "metadata": {},
     "output_type": "execute_result"
    }
   ],
   "source": [
    "sum(y_train_b) / len(y_train_b)"
   ]
  },
  {
   "cell_type": "code",
   "execution_count": 374,
   "id": "d0149e4b",
   "metadata": {},
   "outputs": [],
   "source": [
    "final_train_preds = master_model.predict(train_master_X)"
   ]
  },
  {
   "cell_type": "code",
   "execution_count": 375,
   "id": "2126a7b0",
   "metadata": {},
   "outputs": [
    {
     "name": "stdout",
     "output_type": "stream",
     "text": [
      "              precision    recall  f1-score   support\n",
      "\n",
      "           0       0.93      0.96      0.95       220\n",
      "           1       0.95      0.90      0.92       155\n",
      "\n",
      "    accuracy                           0.94       375\n",
      "   macro avg       0.94      0.93      0.93       375\n",
      "weighted avg       0.94      0.94      0.94       375\n",
      "\n"
     ]
    }
   ],
   "source": [
    "print(classification_report(y_train_b, final_train_preds))"
   ]
  },
  {
   "cell_type": "code",
   "execution_count": 376,
   "id": "b42e3c03",
   "metadata": {},
   "outputs": [],
   "source": [
    "final_valid_preds = master_model.predict(valid_master_X)"
   ]
  },
  {
   "cell_type": "code",
   "execution_count": 377,
   "id": "ec8c3e73",
   "metadata": {},
   "outputs": [
    {
     "name": "stdout",
     "output_type": "stream",
     "text": [
      "              precision    recall  f1-score   support\n",
      "\n",
      "           0       0.92      0.75      0.82        75\n",
      "           1       0.70      0.90      0.79        49\n",
      "\n",
      "    accuracy                           0.81       124\n",
      "   macro avg       0.81      0.82      0.80       124\n",
      "weighted avg       0.83      0.81      0.81       124\n",
      "\n"
     ]
    }
   ],
   "source": [
    "print(classification_report(y_valid_b, final_valid_preds))"
   ]
  },
  {
   "cell_type": "code",
   "execution_count": 378,
   "id": "b6830440",
   "metadata": {},
   "outputs": [],
   "source": [
    "final_test_preds = master_model.predict(test_master_X)"
   ]
  },
  {
   "cell_type": "code",
   "execution_count": 379,
   "id": "6a0c475d",
   "metadata": {},
   "outputs": [
    {
     "name": "stdout",
     "output_type": "stream",
     "text": [
      "              precision    recall  f1-score   support\n",
      "\n",
      "           0       0.77      0.67      0.72        79\n",
      "           1       0.54      0.65      0.59        46\n",
      "\n",
      "    accuracy                           0.66       125\n",
      "   macro avg       0.65      0.66      0.65       125\n",
      "weighted avg       0.68      0.66      0.67       125\n",
      "\n"
     ]
    }
   ],
   "source": [
    "print(classification_report(y_test_b, final_test_preds))"
   ]
  },
  {
   "cell_type": "code",
   "execution_count": 339,
   "id": "dd0e54fd",
   "metadata": {},
   "outputs": [],
   "source": [
    "# Vrushank to-do: \n",
    "# refactor data, use k-fold"
   ]
  },
  {
   "cell_type": "code",
   "execution_count": null,
   "id": "6c5cc4bf",
   "metadata": {},
   "outputs": [],
   "source": []
  }
 ],
 "metadata": {
  "kernelspec": {
   "display_name": "Python 3 (ipykernel)",
   "language": "python",
   "name": "python3"
  },
  "language_info": {
   "codemirror_mode": {
    "name": "ipython",
    "version": 3
   },
   "file_extension": ".py",
   "mimetype": "text/x-python",
   "name": "python",
   "nbconvert_exporter": "python",
   "pygments_lexer": "ipython3",
   "version": "3.11.6"
  }
 },
 "nbformat": 4,
 "nbformat_minor": 5
}
