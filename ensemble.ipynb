{
 "cells": [
  {
   "cell_type": "code",
   "execution_count": 1455,
   "id": "25ff61b1",
   "metadata": {},
   "outputs": [],
   "source": [
    "import numpy as np\n",
    "import pandas as pd\n",
    "import json\n",
    "\n",
    "import matplotlib.pyplot as plt\n",
    "\n",
    "import torch\n",
    "import torch.nn as nn\n",
    "import torch.nn.functional as F\n",
    "import torch.optim as optim\n",
    "from sklearn.metrics import accuracy_score, cohen_kappa_score, f1_score, classification_report\n",
    "\n",
    "import xgboost as xgb\n",
    "from sklearn.model_selection import StratifiedKFold, train_test_split, GridSearchCV\n",
    "from sklearn.linear_model import LogisticRegression\n",
    "\n",
    "from sklearn.naive_bayes import GaussianNB"
   ]
  },
  {
   "cell_type": "markdown",
   "id": "a8b5c233",
   "metadata": {},
   "source": [
    "## Image Label (Neural Network)"
   ]
  },
  {
   "cell_type": "code",
   "execution_count": 1456,
   "id": "7ddc289e",
   "metadata": {},
   "outputs": [
    {
     "data": {
      "text/plain": [
       "'\\n2 LAYER\\n\\nclass Net(nn.Module):\\n\\n    def __init__(self, INPUT_SIZE):\\n        super(Net, self).__init__()\\n        # Input is output of resnet18 image classification model\\n        self.fc1 = nn.Linear(INPUT_SIZE, 500) \\n        self.fc11 = nn.Linear(500, 100)\\n        self.fc2 = nn.Linear(100, 1)\\n        self.act_out = nn.Sigmoid()\\n        self.dropout = nn.Dropout(p=0.25)\\n\\n    def forward(self, x):\\n        x = F.relu(self.fc1(x))\\n        x = self.dropout(x)\\n        x = F.relu(self.fc11(x))\\n        x = self.dropout(x)\\n        x = self.act_out(self.fc2(x))\\n        return x\\n'"
      ]
     },
     "execution_count": 1456,
     "metadata": {},
     "output_type": "execute_result"
    }
   ],
   "source": [
    "\"\"\"\n",
    "2 LAYER\n",
    "\n",
    "class Net(nn.Module):\n",
    "\n",
    "    def __init__(self, INPUT_SIZE):\n",
    "        super(Net, self).__init__()\n",
    "        # Input is output of resnet18 image classification model\n",
    "        self.fc1 = nn.Linear(INPUT_SIZE, 500) \n",
    "        self.fc11 = nn.Linear(500, 100)\n",
    "        self.fc2 = nn.Linear(100, 1)\n",
    "        self.act_out = nn.Sigmoid()\n",
    "        self.dropout = nn.Dropout(p=0.25)\n",
    "\n",
    "    def forward(self, x):\n",
    "        x = F.relu(self.fc1(x))\n",
    "        x = self.dropout(x)\n",
    "        x = F.relu(self.fc11(x))\n",
    "        x = self.dropout(x)\n",
    "        x = self.act_out(self.fc2(x))\n",
    "        return x\n",
    "\"\"\""
   ]
  },
  {
   "cell_type": "code",
   "execution_count": 1457,
   "id": "e51dac78",
   "metadata": {},
   "outputs": [
    {
     "data": {
      "text/plain": [
       "'\\n3 LAYER\\n\\nclass Net(nn.Module):\\n\\n    def __init__(self, INPUT_SIZE):\\n        super(Net, self).__init__()\\n        # Input is output of resnet18 image classification model\\n        self.fc1 = nn.Linear(INPUT_SIZE, 750) \\n        self.fc11 = nn.Linear(750, 250)\\n        self.fc2 = nn.Linear(250, 100)\\n        self.fc3 = nn.Linear(100, 1)\\n        self.act_out = nn.Sigmoid()\\n\\n        self.dropout = nn.Dropout(p=0.25)\\n        \\n    def forward(self, x):\\n        x = F.relu(self.fc1(x))\\n        x = self.dropout(x)\\n        x = F.relu(self.fc11(x))\\n        x = self.dropout(x)\\n        x = F.relu(self.fc2(x))\\n        x = self.act_out(self.fc3(x))\\n        return x\\n'"
      ]
     },
     "execution_count": 1457,
     "metadata": {},
     "output_type": "execute_result"
    }
   ],
   "source": [
    "\"\"\"\n",
    "3 LAYER\n",
    "\n",
    "class Net(nn.Module):\n",
    "\n",
    "    def __init__(self, INPUT_SIZE):\n",
    "        super(Net, self).__init__()\n",
    "        # Input is output of resnet18 image classification model\n",
    "        self.fc1 = nn.Linear(INPUT_SIZE, 750) \n",
    "        self.fc11 = nn.Linear(750, 250)\n",
    "        self.fc2 = nn.Linear(250, 100)\n",
    "        self.fc3 = nn.Linear(100, 1)\n",
    "        self.act_out = nn.Sigmoid()\n",
    "\n",
    "        self.dropout = nn.Dropout(p=0.25)\n",
    "        \n",
    "    def forward(self, x):\n",
    "        x = F.relu(self.fc1(x))\n",
    "        x = self.dropout(x)\n",
    "        x = F.relu(self.fc11(x))\n",
    "        x = self.dropout(x)\n",
    "        x = F.relu(self.fc2(x))\n",
    "        x = self.act_out(self.fc3(x))\n",
    "        return x\n",
    "\"\"\""
   ]
  },
  {
   "cell_type": "code",
   "execution_count": 1458,
   "id": "1b866a48",
   "metadata": {},
   "outputs": [],
   "source": [
    "class Net(nn.Module):\n",
    "\n",
    "    def __init__(self, INPUT_SIZE):\n",
    "        super(Net, self).__init__()\n",
    "        # Input is output of resnet18 image classification model\n",
    "        self.fc1 = nn.Linear(INPUT_SIZE, 500) \n",
    "        self.fc11 = nn.Linear(500, 100)\n",
    "        self.fc2 = nn.Linear(100, 1)\n",
    "        self.act_out = nn.Sigmoid()\n",
    "        self.dropout = nn.Dropout(p=0.25)\n",
    "\n",
    "    def forward(self, x):\n",
    "        x = F.relu(self.fc1(x))\n",
    "        x = self.dropout(x)\n",
    "        x = F.relu(self.fc11(x))\n",
    "        x = self.dropout(x)\n",
    "        x = self.act_out(self.fc2(x))\n",
    "        return x\n",
    "\n",
    "\n",
    "def load_dataset_df(label_path):\n",
    "    label = pd.read_csv(label_path)\n",
    "    label = label.drop(columns=['Unnamed: 0'])\n",
    "    dataset = label\n",
    "\n",
    "    # load embeddings\n",
    "    with open('./dataset_work/embeddings.json') as f:\n",
    "        embeddings = json.load(f)\n",
    "    all_embeddings = pd.DataFrame.from_dict(embeddings, orient='index', columns=['embedding'])\n",
    "    all_embeddings.index.name = 'id'\n",
    "    dataset = pd.merge(dataset, all_embeddings, on='id', how='left')\n",
    "\n",
    "    # load personalities\n",
    "    with open('./dataset_work/personalities.json') as f:\n",
    "        personalities = json.load(f)\n",
    "    all_personalities = pd.DataFrame.from_dict(personalities, orient='index', columns=['playfulness', 'chase-proneness', 'curiosity', 'sociability', 'aggressiveness', 'shyness'])\n",
    "    all_personalities.index.name = 'id'\n",
    "    dataset = pd.merge(dataset, all_personalities, on='id', how='left')\n",
    "\n",
    "    return dataset\n",
    "\n",
    "def vectorize_dataset(df, with_personalities, with_embeddings):\n",
    "    if with_personalities and with_embeddings:\n",
    "        cols = df[['embedding','playfulness', 'chase-proneness', 'curiosity', 'sociability', 'aggressiveness', 'shyness']]\n",
    "        x = cols.values\n",
    "        embeddings = x[:,0]\n",
    "        expanded = np.array(embeddings.tolist())\n",
    "        x = np.concatenate((expanded, x[:,1:]), axis=1)\n",
    "        x = np.array(x, dtype='float64')\n",
    "        y = df['label'].values\n",
    "    elif with_embeddings:\n",
    "        cols = df[['embedding','playfulness', 'chase-proneness', 'curiosity', 'sociability', 'aggressiveness', 'shyness']]\n",
    "        x = cols.values\n",
    "        embeddings = x[:,0]\n",
    "        expanded = np.array(embeddings.tolist())\n",
    "        x = expanded\n",
    "        y = df['label'].values\n",
    "    else:\n",
    "        cols = df[['embedding','playfulness', 'chase-proneness', 'curiosity', 'sociability', 'aggressiveness', 'shyness']]\n",
    "        x = cols.values\n",
    "        x = x[:,1:]\n",
    "        x = np.array(x, dtype=\"float64\")\n",
    "        y = df['label'].values\n",
    "    return torch.tensor(x, dtype=torch.float32), torch.tensor(y, dtype=torch.float32).reshape(-1, 1)\n",
    "\n",
    "def load(label_path, with_personalities, with_embeddings):\n",
    "    df = load_dataset_df(label_path)\n",
    "    return vectorize_dataset(df, with_personalities, with_embeddings)\n",
    "\n",
    "def nn_pred(label_path):\n",
    "    # load the weights, trained on only images\n",
    "    # 3 layer train\n",
    "    #PATH = \"trained_models/BEST_MODEL_ALICE/alice_medium_images_True_personalities_False_optm_adam_loss_MSE_EPOCHS_100_BATCH_1000_REG_0.095_LR_0.0001_f1_0.788327619047619\"\n",
    "    # 2 layer train\n",
    "    PATH = \"trained_models/BEST_MODEL_ALICE/ALICE_2_LAYER_BEST_optm_adam_loss_MSE_EPOCHS_100_BATCH_1000_REG_0.09_LR_0.0001_f1_0.7920085561497326\"\n",
    "    train_x_t, train_y_t = load(label_path, with_personalities=False, with_embeddings=True)\n",
    "    model = Net(train_x_t.shape[1])\n",
    "    model.load_state_dict(torch.load(PATH))\n",
    "    model.eval()\n",
    "    return model(train_x_t)"
   ]
  },
  {
   "cell_type": "code",
   "execution_count": 1459,
   "id": "f57bee6b",
   "metadata": {},
   "outputs": [],
   "source": [
    "nn_preds_t = nn_pred('dataset_work/labels/image_only/alice_train_personalityFalse_imageTrue_labels.csv')\n",
    "train_i = load_dataset_df('./dataset_work/labels/image_only/alice_train_personalityFalse_imageTrue_labels.csv')\n"
   ]
  },
  {
   "cell_type": "code",
   "execution_count": 1460,
   "id": "5ec3fb65",
   "metadata": {},
   "outputs": [
    {
     "name": "stdout",
     "output_type": "stream",
     "text": [
      "              precision    recall  f1-score   support\n",
      "\n",
      "         0.0       0.94      0.85      0.89       253\n",
      "         1.0       0.73      0.89      0.80       122\n",
      "\n",
      "    accuracy                           0.86       375\n",
      "   macro avg       0.84      0.87      0.85       375\n",
      "weighted avg       0.87      0.86      0.86       375\n",
      "\n"
     ]
    }
   ],
   "source": [
    "print(classification_report(nn_preds_t.round().detach().numpy(), train_i['label']))"
   ]
  },
  {
   "cell_type": "code",
   "execution_count": 1461,
   "id": "ef408616",
   "metadata": {},
   "outputs": [],
   "source": [
    "nn_preds = nn_pred('dataset_work/labels/image_only/alice_valid_personalityFalse_imageTrue_labels.csv')\n",
    "valid_i = load_dataset_df('./dataset_work/labels/image_only/alice_valid_personalityFalse_imageTrue_labels.csv')\n",
    "#valid_i = load_dataset_df('./dataset_work/labels/image_and_personality/alice_valid_personalityFalse_imageTrue_labels.csv')"
   ]
  },
  {
   "cell_type": "code",
   "execution_count": 1462,
   "id": "3692a2fe",
   "metadata": {},
   "outputs": [
    {
     "name": "stdout",
     "output_type": "stream",
     "text": [
      "              precision    recall  f1-score   support\n",
      "\n",
      "         0.0       0.84      0.75      0.80        85\n",
      "         1.0       0.57      0.70      0.63        40\n",
      "\n",
      "    accuracy                           0.74       125\n",
      "   macro avg       0.71      0.73      0.71       125\n",
      "weighted avg       0.76      0.74      0.74       125\n",
      "\n"
     ]
    }
   ],
   "source": [
    "print(classification_report(nn_preds.round().detach().numpy(), valid_i['label']))"
   ]
  },
  {
   "cell_type": "code",
   "execution_count": 1488,
   "id": "5512cbfc",
   "metadata": {},
   "outputs": [
    {
     "name": "stdout",
     "output_type": "stream",
     "text": [
      "              precision    recall  f1-score   support\n",
      "\n",
      "         0.0       0.78      0.73      0.75        78\n",
      "         1.0       0.59      0.65      0.62        46\n",
      "\n",
      "    accuracy                           0.70       124\n",
      "   macro avg       0.68      0.69      0.69       124\n",
      "weighted avg       0.71      0.70      0.70       124\n",
      "\n"
     ]
    }
   ],
   "source": [
    "test_i = load_dataset_df('./dataset_work/labels/image_only/alice_test_personalityFalse_imageTrue_labels.csv')\n",
    "test_preds = nn_pred('dataset_work/labels/image_only/alice_test_personalityFalse_imageTrue_labels.csv')\n",
    "print(classification_report(test_preds.round().detach().numpy(), test_i['label']))"
   ]
  },
  {
   "cell_type": "code",
   "execution_count": 1463,
   "id": "fc1a8af5",
   "metadata": {},
   "outputs": [
    {
     "data": {
      "text/plain": [
       "125"
      ]
     },
     "execution_count": 1463,
     "metadata": {},
     "output_type": "execute_result"
    }
   ],
   "source": [
    "len(nn_preds)"
   ]
  },
  {
   "cell_type": "markdown",
   "id": "221076fb",
   "metadata": {},
   "source": [
    "## Personality Label (Decision Trees)"
   ]
  },
  {
   "cell_type": "code",
   "execution_count": 1464,
   "id": "0ce8e0bb",
   "metadata": {},
   "outputs": [],
   "source": [
    "def load_dataset_p(label_path):\n",
    "    label = pd.read_csv(label_path)\n",
    "    label = label.drop(columns=['Unnamed: 0'])\n",
    "    p_file = open('./dataset_work/personalities.json')\n",
    "    personalities = json.load(p_file)\n",
    "    p_file.close()\n",
    "    all_personalities = pd.DataFrame.from_dict(personalities, orient='index', columns=['playfulness', 'chase-proneness', 'curiosity', 'sociability', 'aggressiveness', 'shyness'])\n",
    "    all_personalities['id'] = all_personalities.index\n",
    "    dataset = pd.merge(label, all_personalities, on='id', how='left')\n",
    "    return dataset"
   ]
  },
  {
   "cell_type": "code",
   "execution_count": 1465,
   "id": "a7b7bde4",
   "metadata": {},
   "outputs": [],
   "source": [
    "# laod the personality datasets\n",
    "train_p = load_dataset_p('./dataset_work/labels/personality_only/alice_train_personalityTrue_imageFalse_labels.csv')\n",
    "valid_p = load_dataset_p('./dataset_work/labels/personality_only/alice_valid_personalityTrue_imageFalse_labels.csv')\n",
    "test_p = load_dataset_p('./dataset_work/labels/personality_only/alice_test_personalityTrue_imageFalse_labels.csv')"
   ]
  },
  {
   "cell_type": "code",
   "execution_count": 1466,
   "id": "5bf2ee7c",
   "metadata": {},
   "outputs": [],
   "source": [
    "def split_dataset(d_df):\n",
    "    _feats = d_df[['playfulness', 'chase-proneness', 'curiosity', 'sociability', 'aggressiveness', 'shyness']]\n",
    "    x = _feats.values\n",
    "    return x, d_df['label'].values"
   ]
  },
  {
   "cell_type": "code",
   "execution_count": 1467,
   "id": "086bda3f",
   "metadata": {},
   "outputs": [],
   "source": [
    "X_train_p, y_train_p = split_dataset(train_p)\n",
    "X_valid_p, y_valid_p = split_dataset(valid_p)\n",
    "X_test_p, y_test_p = split_dataset(test_p)"
   ]
  },
  {
   "cell_type": "code",
   "execution_count": 1468,
   "id": "1bb1916a",
   "metadata": {},
   "outputs": [
    {
     "data": {
      "text/html": [
       "<style>#sk-container-id-149 {color: black;}#sk-container-id-149 pre{padding: 0;}#sk-container-id-149 div.sk-toggleable {background-color: white;}#sk-container-id-149 label.sk-toggleable__label {cursor: pointer;display: block;width: 100%;margin-bottom: 0;padding: 0.3em;box-sizing: border-box;text-align: center;}#sk-container-id-149 label.sk-toggleable__label-arrow:before {content: \"▸\";float: left;margin-right: 0.25em;color: #696969;}#sk-container-id-149 label.sk-toggleable__label-arrow:hover:before {color: black;}#sk-container-id-149 div.sk-estimator:hover label.sk-toggleable__label-arrow:before {color: black;}#sk-container-id-149 div.sk-toggleable__content {max-height: 0;max-width: 0;overflow: hidden;text-align: left;background-color: #f0f8ff;}#sk-container-id-149 div.sk-toggleable__content pre {margin: 0.2em;color: black;border-radius: 0.25em;background-color: #f0f8ff;}#sk-container-id-149 input.sk-toggleable__control:checked~div.sk-toggleable__content {max-height: 200px;max-width: 100%;overflow: auto;}#sk-container-id-149 input.sk-toggleable__control:checked~label.sk-toggleable__label-arrow:before {content: \"▾\";}#sk-container-id-149 div.sk-estimator input.sk-toggleable__control:checked~label.sk-toggleable__label {background-color: #d4ebff;}#sk-container-id-149 div.sk-label input.sk-toggleable__control:checked~label.sk-toggleable__label {background-color: #d4ebff;}#sk-container-id-149 input.sk-hidden--visually {border: 0;clip: rect(1px 1px 1px 1px);clip: rect(1px, 1px, 1px, 1px);height: 1px;margin: -1px;overflow: hidden;padding: 0;position: absolute;width: 1px;}#sk-container-id-149 div.sk-estimator {font-family: monospace;background-color: #f0f8ff;border: 1px dotted black;border-radius: 0.25em;box-sizing: border-box;margin-bottom: 0.5em;}#sk-container-id-149 div.sk-estimator:hover {background-color: #d4ebff;}#sk-container-id-149 div.sk-parallel-item::after {content: \"\";width: 100%;border-bottom: 1px solid gray;flex-grow: 1;}#sk-container-id-149 div.sk-label:hover label.sk-toggleable__label {background-color: #d4ebff;}#sk-container-id-149 div.sk-serial::before {content: \"\";position: absolute;border-left: 1px solid gray;box-sizing: border-box;top: 0;bottom: 0;left: 50%;z-index: 0;}#sk-container-id-149 div.sk-serial {display: flex;flex-direction: column;align-items: center;background-color: white;padding-right: 0.2em;padding-left: 0.2em;position: relative;}#sk-container-id-149 div.sk-item {position: relative;z-index: 1;}#sk-container-id-149 div.sk-parallel {display: flex;align-items: stretch;justify-content: center;background-color: white;position: relative;}#sk-container-id-149 div.sk-item::before, #sk-container-id-149 div.sk-parallel-item::before {content: \"\";position: absolute;border-left: 1px solid gray;box-sizing: border-box;top: 0;bottom: 0;left: 50%;z-index: -1;}#sk-container-id-149 div.sk-parallel-item {display: flex;flex-direction: column;z-index: 1;position: relative;background-color: white;}#sk-container-id-149 div.sk-parallel-item:first-child::after {align-self: flex-end;width: 50%;}#sk-container-id-149 div.sk-parallel-item:last-child::after {align-self: flex-start;width: 50%;}#sk-container-id-149 div.sk-parallel-item:only-child::after {width: 0;}#sk-container-id-149 div.sk-dashed-wrapped {border: 1px dashed gray;margin: 0 0.4em 0.5em 0.4em;box-sizing: border-box;padding-bottom: 0.4em;background-color: white;}#sk-container-id-149 div.sk-label label {font-family: monospace;font-weight: bold;display: inline-block;line-height: 1.2em;}#sk-container-id-149 div.sk-label-container {text-align: center;}#sk-container-id-149 div.sk-container {/* jupyter's `normalize.less` sets `[hidden] { display: none; }` but bootstrap.min.css set `[hidden] { display: none !important; }` so we also need the `!important` here to be able to override the default hidden behavior on the sphinx rendered scikit-learn.org. See: https://github.com/scikit-learn/scikit-learn/issues/21755 */display: inline-block !important;position: relative;}#sk-container-id-149 div.sk-text-repr-fallback {display: none;}</style><div id=\"sk-container-id-149\" class=\"sk-top-container\"><div class=\"sk-text-repr-fallback\"><pre>XGBClassifier(base_score=None, booster=None, callbacks=None,\n",
       "              colsample_bylevel=None, colsample_bynode=None,\n",
       "              colsample_bytree=None, early_stopping_rounds=None,\n",
       "              enable_categorical=False, eval_metric=None, feature_types=None,\n",
       "              gamma=None, gpu_id=None, grow_policy=None, importance_type=None,\n",
       "              interaction_constraints=None, learning_rate=None, max_bin=None,\n",
       "              max_cat_threshold=None, max_cat_to_onehot=None,\n",
       "              max_delta_step=None, max_depth=None, max_leaves=None,\n",
       "              min_child_weight=None, missing=nan, monotone_constraints=None,\n",
       "              n_estimators=35, n_jobs=None, num_parallel_tree=None,\n",
       "              predictor=None, random_state=42, ...)</pre><b>In a Jupyter environment, please rerun this cell to show the HTML representation or trust the notebook. <br />On GitHub, the HTML representation is unable to render, please try loading this page with nbviewer.org.</b></div><div class=\"sk-container\" hidden><div class=\"sk-item\"><div class=\"sk-estimator sk-toggleable\"><input class=\"sk-toggleable__control sk-hidden--visually\" id=\"sk-estimator-id-149\" type=\"checkbox\" checked><label for=\"sk-estimator-id-149\" class=\"sk-toggleable__label sk-toggleable__label-arrow\">XGBClassifier</label><div class=\"sk-toggleable__content\"><pre>XGBClassifier(base_score=None, booster=None, callbacks=None,\n",
       "              colsample_bylevel=None, colsample_bynode=None,\n",
       "              colsample_bytree=None, early_stopping_rounds=None,\n",
       "              enable_categorical=False, eval_metric=None, feature_types=None,\n",
       "              gamma=None, gpu_id=None, grow_policy=None, importance_type=None,\n",
       "              interaction_constraints=None, learning_rate=None, max_bin=None,\n",
       "              max_cat_threshold=None, max_cat_to_onehot=None,\n",
       "              max_delta_step=None, max_depth=None, max_leaves=None,\n",
       "              min_child_weight=None, missing=nan, monotone_constraints=None,\n",
       "              n_estimators=35, n_jobs=None, num_parallel_tree=None,\n",
       "              predictor=None, random_state=42, ...)</pre></div></div></div></div></div>"
      ],
      "text/plain": [
       "XGBClassifier(base_score=None, booster=None, callbacks=None,\n",
       "              colsample_bylevel=None, colsample_bynode=None,\n",
       "              colsample_bytree=None, early_stopping_rounds=None,\n",
       "              enable_categorical=False, eval_metric=None, feature_types=None,\n",
       "              gamma=None, gpu_id=None, grow_policy=None, importance_type=None,\n",
       "              interaction_constraints=None, learning_rate=None, max_bin=None,\n",
       "              max_cat_threshold=None, max_cat_to_onehot=None,\n",
       "              max_delta_step=None, max_depth=None, max_leaves=None,\n",
       "              min_child_weight=None, missing=nan, monotone_constraints=None,\n",
       "              n_estimators=35, n_jobs=None, num_parallel_tree=None,\n",
       "              predictor=None, random_state=42, ...)"
      ]
     },
     "execution_count": 1468,
     "metadata": {},
     "output_type": "execute_result"
    }
   ],
   "source": [
    "# add regularization with 'lambda'\n",
    "personality_model = xgb.XGBClassifier(objective=\"binary:logistic\", random_state=42, n_estimators=35, scale_pos_weight=0.8, reg_lambda=3)\n",
    "\n",
    "#personality_model = GaussianNB() # likelihood of the features is assumed to be gaussian\n",
    "personality_model.fit(X_train_p, y_train_p)"
   ]
  },
  {
   "cell_type": "code",
   "execution_count": 1469,
   "id": "ae498a79",
   "metadata": {},
   "outputs": [],
   "source": [
    "valid_preds = personality_model.predict(X_valid_p)\n",
    "train_preds = personality_model.predict(X_train_p)\n",
    "test_preds = personality_model.predict(X_test_p)\n",
    "#p_probs = [v[1] for v in valid_preds] # probability of a output label '1'"
   ]
  },
  {
   "cell_type": "code",
   "execution_count": 1470,
   "id": "1b59541d",
   "metadata": {},
   "outputs": [
    {
     "data": {
      "text/plain": [
       "0.752"
      ]
     },
     "execution_count": 1470,
     "metadata": {},
     "output_type": "execute_result"
    }
   ],
   "source": [
    "sum(y_valid_p) / len(y_valid_p)"
   ]
  },
  {
   "cell_type": "code",
   "execution_count": 1471,
   "id": "5d70df47",
   "metadata": {},
   "outputs": [
    {
     "name": "stdout",
     "output_type": "stream",
     "text": [
      "              precision    recall  f1-score   support\n",
      "\n",
      "           0       0.95      0.93      0.94        92\n",
      "           1       0.98      0.98      0.98       283\n",
      "\n",
      "    accuracy                           0.97       375\n",
      "   macro avg       0.96      0.96      0.96       375\n",
      "weighted avg       0.97      0.97      0.97       375\n",
      "\n"
     ]
    }
   ],
   "source": [
    "print(classification_report(train_preds, y_train_p))"
   ]
  },
  {
   "cell_type": "code",
   "execution_count": 1472,
   "id": "ce2fac29",
   "metadata": {},
   "outputs": [
    {
     "name": "stdout",
     "output_type": "stream",
     "text": [
      "              precision    recall  f1-score   support\n",
      "\n",
      "           0       0.84      0.72      0.78        36\n",
      "           1       0.89      0.94      0.92        89\n",
      "\n",
      "    accuracy                           0.88       125\n",
      "   macro avg       0.87      0.83      0.85       125\n",
      "weighted avg       0.88      0.88      0.88       125\n",
      "\n"
     ]
    }
   ],
   "source": [
    "print(classification_report(valid_preds, y_valid_p))"
   ]
  },
  {
   "cell_type": "code",
   "execution_count": 1473,
   "id": "c292a94c",
   "metadata": {},
   "outputs": [
    {
     "name": "stdout",
     "output_type": "stream",
     "text": [
      "              precision    recall  f1-score   support\n",
      "\n",
      "           0       0.80      0.88      0.84        32\n",
      "           1       0.96      0.92      0.94        92\n",
      "\n",
      "    accuracy                           0.91       124\n",
      "   macro avg       0.88      0.90      0.89       124\n",
      "weighted avg       0.92      0.91      0.91       124\n",
      "\n"
     ]
    }
   ],
   "source": [
    "print(classification_report(test_preds, y_test_p))"
   ]
  },
  {
   "cell_type": "markdown",
   "id": "77a02c2f",
   "metadata": {},
   "source": [
    "## Putting them together on images + personalities"
   ]
  },
  {
   "cell_type": "code",
   "execution_count": 1474,
   "id": "2cc646c0",
   "metadata": {},
   "outputs": [],
   "source": [
    "def gen_final_data(nn_path, p_model, d_b, X_b, out):\n",
    "    # create a 3-vector [breed, NN output, tree output] for the training set  \n",
    "    nn_preds = nn_pred(nn_path)\n",
    "    preds = p_model.predict_proba(X_b) # using the model trained on only personality data\n",
    "    p_preds = [v[1] for v in preds]\n",
    "    dog_ids = d_b['id'].values\n",
    "    breed_ids = [i[1:i.find('_')] for i in dog_ids]\n",
    "    \n",
    "    dog_ids = d_b['id'].values\n",
    "    breed_ids = [i[1:i.find('_')] for i in dog_ids]\n",
    "    breed_to_a = {}\n",
    "    ctr = 0\n",
    "    for breed in breed_ids:\n",
    "        if breed not in breed_to_a:\n",
    "            breed_to_a[breed] = ctr\n",
    "            ctr += 1\n",
    "\n",
    "    processed_breed_ids = [breed_to_a[b] for b in breed_ids]\n",
    "    \n",
    "    out['breed'] = processed_breed_ids\n",
    "    out['p_out'] = p_preds\n",
    "    out['img_out'] = nn_preds.detach().numpy()\n",
    "    \n",
    "\n",
    "#     for breed in breed_to_a.keys():\n",
    "#         nc = []\n",
    "#         for i in breed_ids:\n",
    "#             if i == breed:\n",
    "#                 #print('y')\n",
    "#                 nc.append(1)\n",
    "#             else:\n",
    "#                 nc.append(0)\n",
    "#         out[breed] = nc\n",
    " "
   ]
  },
  {
   "cell_type": "code",
   "execution_count": 1475,
   "id": "1ea9193b",
   "metadata": {},
   "outputs": [],
   "source": [
    "train_b = load_dataset_df('./dataset_work/labels/image_and_personality/alice_train_personalityTrue_imageTrue_labels.csv')\n",
    "valid_b = load_dataset_df('./dataset_work/labels/image_and_personality/alice_valid_personalityTrue_imageTrue_labels.csv')\n",
    "test_b = load_dataset_df('./dataset_work/labels/image_and_personality/alice_test_personalityTrue_imageTrue_labels.csv')\n",
    "\n",
    "X_train_b, y_train_b = split_dataset(train_b)\n",
    "X_valid_b, y_valid_b = split_dataset(valid_b)\n",
    "X_test_b, y_test_b = split_dataset(test_b)"
   ]
  },
  {
   "cell_type": "code",
   "execution_count": 1476,
   "id": "026c6792",
   "metadata": {},
   "outputs": [],
   "source": [
    "BOTH_TRAIN_PATH = './dataset_work/labels/image_and_personality/alice_train_personalityTrue_imageTrue_labels.csv'\n",
    "BOTH_VALID_PATH = './dataset_work/labels/image_and_personality/alice_valid_personalityTrue_imageTrue_labels.csv'\n",
    "BOTH_TEST_PATH = './dataset_work/labels/image_and_personality/alice_test_personalityTrue_imageTrue_labels.csv'\n",
    "train_master = pd.DataFrame()\n",
    "valid_master = pd.DataFrame()\n",
    "test_master = pd.DataFrame()\n",
    "gen_final_data(BOTH_TRAIN_PATH, personality_model, train_b, X_train_b, train_master)\n",
    "gen_final_data(BOTH_VALID_PATH, personality_model, valid_b, X_valid_b, valid_master)\n",
    "gen_final_data(BOTH_TEST_PATH, personality_model, test_b, X_test_b, test_master)\n",
    "\n",
    "train_master_X = train_master.values\n",
    "valid_master_X = valid_master.values\n",
    "test_master_X = test_master.values"
   ]
  },
  {
   "cell_type": "code",
   "execution_count": 1477,
   "id": "ba959344",
   "metadata": {},
   "outputs": [
    {
     "data": {
      "text/html": [
       "<div>\n",
       "<style scoped>\n",
       "    .dataframe tbody tr th:only-of-type {\n",
       "        vertical-align: middle;\n",
       "    }\n",
       "\n",
       "    .dataframe tbody tr th {\n",
       "        vertical-align: top;\n",
       "    }\n",
       "\n",
       "    .dataframe thead th {\n",
       "        text-align: right;\n",
       "    }\n",
       "</style>\n",
       "<table border=\"1\" class=\"dataframe\">\n",
       "  <thead>\n",
       "    <tr style=\"text-align: right;\">\n",
       "      <th></th>\n",
       "      <th>breed</th>\n",
       "      <th>p_out</th>\n",
       "      <th>img_out</th>\n",
       "    </tr>\n",
       "  </thead>\n",
       "  <tbody>\n",
       "    <tr>\n",
       "      <th>0</th>\n",
       "      <td>0</td>\n",
       "      <td>0.985445</td>\n",
       "      <td>0.561628</td>\n",
       "    </tr>\n",
       "    <tr>\n",
       "      <th>1</th>\n",
       "      <td>1</td>\n",
       "      <td>0.042865</td>\n",
       "      <td>0.270346</td>\n",
       "    </tr>\n",
       "    <tr>\n",
       "      <th>2</th>\n",
       "      <td>2</td>\n",
       "      <td>0.796752</td>\n",
       "      <td>0.633707</td>\n",
       "    </tr>\n",
       "    <tr>\n",
       "      <th>3</th>\n",
       "      <td>3</td>\n",
       "      <td>0.947014</td>\n",
       "      <td>0.296303</td>\n",
       "    </tr>\n",
       "    <tr>\n",
       "      <th>4</th>\n",
       "      <td>4</td>\n",
       "      <td>0.980010</td>\n",
       "      <td>0.575307</td>\n",
       "    </tr>\n",
       "    <tr>\n",
       "      <th>...</th>\n",
       "      <td>...</td>\n",
       "      <td>...</td>\n",
       "      <td>...</td>\n",
       "    </tr>\n",
       "    <tr>\n",
       "      <th>119</th>\n",
       "      <td>23</td>\n",
       "      <td>0.978018</td>\n",
       "      <td>0.446371</td>\n",
       "    </tr>\n",
       "    <tr>\n",
       "      <th>120</th>\n",
       "      <td>3</td>\n",
       "      <td>0.286179</td>\n",
       "      <td>0.187637</td>\n",
       "    </tr>\n",
       "    <tr>\n",
       "      <th>121</th>\n",
       "      <td>13</td>\n",
       "      <td>0.668836</td>\n",
       "      <td>0.531577</td>\n",
       "    </tr>\n",
       "    <tr>\n",
       "      <th>122</th>\n",
       "      <td>24</td>\n",
       "      <td>0.997368</td>\n",
       "      <td>0.151803</td>\n",
       "    </tr>\n",
       "    <tr>\n",
       "      <th>123</th>\n",
       "      <td>1</td>\n",
       "      <td>0.988695</td>\n",
       "      <td>0.272599</td>\n",
       "    </tr>\n",
       "  </tbody>\n",
       "</table>\n",
       "<p>124 rows × 3 columns</p>\n",
       "</div>"
      ],
      "text/plain": [
       "     breed     p_out   img_out\n",
       "0        0  0.985445  0.561628\n",
       "1        1  0.042865  0.270346\n",
       "2        2  0.796752  0.633707\n",
       "3        3  0.947014  0.296303\n",
       "4        4  0.980010  0.575307\n",
       "..     ...       ...       ...\n",
       "119     23  0.978018  0.446371\n",
       "120      3  0.286179  0.187637\n",
       "121     13  0.668836  0.531577\n",
       "122     24  0.997368  0.151803\n",
       "123      1  0.988695  0.272599\n",
       "\n",
       "[124 rows x 3 columns]"
      ]
     },
     "execution_count": 1477,
     "metadata": {},
     "output_type": "execute_result"
    }
   ],
   "source": [
    "test_master"
   ]
  },
  {
   "cell_type": "code",
   "execution_count": 1478,
   "id": "1f3ce9cf",
   "metadata": {},
   "outputs": [
    {
     "data": {
      "text/html": [
       "<style>#sk-container-id-150 {color: black;}#sk-container-id-150 pre{padding: 0;}#sk-container-id-150 div.sk-toggleable {background-color: white;}#sk-container-id-150 label.sk-toggleable__label {cursor: pointer;display: block;width: 100%;margin-bottom: 0;padding: 0.3em;box-sizing: border-box;text-align: center;}#sk-container-id-150 label.sk-toggleable__label-arrow:before {content: \"▸\";float: left;margin-right: 0.25em;color: #696969;}#sk-container-id-150 label.sk-toggleable__label-arrow:hover:before {color: black;}#sk-container-id-150 div.sk-estimator:hover label.sk-toggleable__label-arrow:before {color: black;}#sk-container-id-150 div.sk-toggleable__content {max-height: 0;max-width: 0;overflow: hidden;text-align: left;background-color: #f0f8ff;}#sk-container-id-150 div.sk-toggleable__content pre {margin: 0.2em;color: black;border-radius: 0.25em;background-color: #f0f8ff;}#sk-container-id-150 input.sk-toggleable__control:checked~div.sk-toggleable__content {max-height: 200px;max-width: 100%;overflow: auto;}#sk-container-id-150 input.sk-toggleable__control:checked~label.sk-toggleable__label-arrow:before {content: \"▾\";}#sk-container-id-150 div.sk-estimator input.sk-toggleable__control:checked~label.sk-toggleable__label {background-color: #d4ebff;}#sk-container-id-150 div.sk-label input.sk-toggleable__control:checked~label.sk-toggleable__label {background-color: #d4ebff;}#sk-container-id-150 input.sk-hidden--visually {border: 0;clip: rect(1px 1px 1px 1px);clip: rect(1px, 1px, 1px, 1px);height: 1px;margin: -1px;overflow: hidden;padding: 0;position: absolute;width: 1px;}#sk-container-id-150 div.sk-estimator {font-family: monospace;background-color: #f0f8ff;border: 1px dotted black;border-radius: 0.25em;box-sizing: border-box;margin-bottom: 0.5em;}#sk-container-id-150 div.sk-estimator:hover {background-color: #d4ebff;}#sk-container-id-150 div.sk-parallel-item::after {content: \"\";width: 100%;border-bottom: 1px solid gray;flex-grow: 1;}#sk-container-id-150 div.sk-label:hover label.sk-toggleable__label {background-color: #d4ebff;}#sk-container-id-150 div.sk-serial::before {content: \"\";position: absolute;border-left: 1px solid gray;box-sizing: border-box;top: 0;bottom: 0;left: 50%;z-index: 0;}#sk-container-id-150 div.sk-serial {display: flex;flex-direction: column;align-items: center;background-color: white;padding-right: 0.2em;padding-left: 0.2em;position: relative;}#sk-container-id-150 div.sk-item {position: relative;z-index: 1;}#sk-container-id-150 div.sk-parallel {display: flex;align-items: stretch;justify-content: center;background-color: white;position: relative;}#sk-container-id-150 div.sk-item::before, #sk-container-id-150 div.sk-parallel-item::before {content: \"\";position: absolute;border-left: 1px solid gray;box-sizing: border-box;top: 0;bottom: 0;left: 50%;z-index: -1;}#sk-container-id-150 div.sk-parallel-item {display: flex;flex-direction: column;z-index: 1;position: relative;background-color: white;}#sk-container-id-150 div.sk-parallel-item:first-child::after {align-self: flex-end;width: 50%;}#sk-container-id-150 div.sk-parallel-item:last-child::after {align-self: flex-start;width: 50%;}#sk-container-id-150 div.sk-parallel-item:only-child::after {width: 0;}#sk-container-id-150 div.sk-dashed-wrapped {border: 1px dashed gray;margin: 0 0.4em 0.5em 0.4em;box-sizing: border-box;padding-bottom: 0.4em;background-color: white;}#sk-container-id-150 div.sk-label label {font-family: monospace;font-weight: bold;display: inline-block;line-height: 1.2em;}#sk-container-id-150 div.sk-label-container {text-align: center;}#sk-container-id-150 div.sk-container {/* jupyter's `normalize.less` sets `[hidden] { display: none; }` but bootstrap.min.css set `[hidden] { display: none !important; }` so we also need the `!important` here to be able to override the default hidden behavior on the sphinx rendered scikit-learn.org. See: https://github.com/scikit-learn/scikit-learn/issues/21755 */display: inline-block !important;position: relative;}#sk-container-id-150 div.sk-text-repr-fallback {display: none;}</style><div id=\"sk-container-id-150\" class=\"sk-top-container\"><div class=\"sk-text-repr-fallback\"><pre>XGBClassifier(base_score=None, booster=&#x27;gbtree&#x27;, callbacks=None,\n",
       "              colsample_bylevel=None, colsample_bynode=None,\n",
       "              colsample_bytree=None, early_stopping_rounds=None,\n",
       "              enable_categorical=False, eval_metric=None, feature_types=None,\n",
       "              gamma=None, gpu_id=None, grow_policy=None, importance_type=None,\n",
       "              interaction_constraints=None, learning_rate=None, max_bin=None,\n",
       "              max_cat_threshold=None, max_cat_to_onehot=None,\n",
       "              max_delta_step=None, max_depth=None, max_leaves=None,\n",
       "              min_child_weight=None, missing=nan, monotone_constraints=None,\n",
       "              n_estimators=20, n_jobs=None, num_parallel_tree=None,\n",
       "              predictor=None, random_state=42, ...)</pre><b>In a Jupyter environment, please rerun this cell to show the HTML representation or trust the notebook. <br />On GitHub, the HTML representation is unable to render, please try loading this page with nbviewer.org.</b></div><div class=\"sk-container\" hidden><div class=\"sk-item\"><div class=\"sk-estimator sk-toggleable\"><input class=\"sk-toggleable__control sk-hidden--visually\" id=\"sk-estimator-id-150\" type=\"checkbox\" checked><label for=\"sk-estimator-id-150\" class=\"sk-toggleable__label sk-toggleable__label-arrow\">XGBClassifier</label><div class=\"sk-toggleable__content\"><pre>XGBClassifier(base_score=None, booster=&#x27;gbtree&#x27;, callbacks=None,\n",
       "              colsample_bylevel=None, colsample_bynode=None,\n",
       "              colsample_bytree=None, early_stopping_rounds=None,\n",
       "              enable_categorical=False, eval_metric=None, feature_types=None,\n",
       "              gamma=None, gpu_id=None, grow_policy=None, importance_type=None,\n",
       "              interaction_constraints=None, learning_rate=None, max_bin=None,\n",
       "              max_cat_threshold=None, max_cat_to_onehot=None,\n",
       "              max_delta_step=None, max_depth=None, max_leaves=None,\n",
       "              min_child_weight=None, missing=nan, monotone_constraints=None,\n",
       "              n_estimators=20, n_jobs=None, num_parallel_tree=None,\n",
       "              predictor=None, random_state=42, ...)</pre></div></div></div></div></div>"
      ],
      "text/plain": [
       "XGBClassifier(base_score=None, booster='gbtree', callbacks=None,\n",
       "              colsample_bylevel=None, colsample_bynode=None,\n",
       "              colsample_bytree=None, early_stopping_rounds=None,\n",
       "              enable_categorical=False, eval_metric=None, feature_types=None,\n",
       "              gamma=None, gpu_id=None, grow_policy=None, importance_type=None,\n",
       "              interaction_constraints=None, learning_rate=None, max_bin=None,\n",
       "              max_cat_threshold=None, max_cat_to_onehot=None,\n",
       "              max_delta_step=None, max_depth=None, max_leaves=None,\n",
       "              min_child_weight=None, missing=nan, monotone_constraints=None,\n",
       "              n_estimators=20, n_jobs=None, num_parallel_tree=None,\n",
       "              predictor=None, random_state=42, ...)"
      ]
     },
     "execution_count": 1478,
     "metadata": {},
     "output_type": "execute_result"
    }
   ],
   "source": [
    "master_model = xgb.XGBClassifier(objective=\"binary:logistic\",  booster='gbtree',random_state=42, n_estimators=20, scale_pos_weight=3, reg_lambda=2.4)\n",
    "#master_model = LogisticRegression()\n",
    "master_model.fit(train_master_X, y_train_b)"
   ]
  },
  {
   "cell_type": "code",
   "execution_count": 1479,
   "id": "8b42d86e",
   "metadata": {},
   "outputs": [
    {
     "data": {
      "text/plain": [
       "0.41333333333333333"
      ]
     },
     "execution_count": 1479,
     "metadata": {},
     "output_type": "execute_result"
    }
   ],
   "source": [
    "sum(y_train_b) / len(y_train_b)"
   ]
  },
  {
   "cell_type": "code",
   "execution_count": 1480,
   "id": "955dacf6",
   "metadata": {},
   "outputs": [],
   "source": [
    "final_train_preds = master_model.predict(train_master_X)"
   ]
  },
  {
   "cell_type": "code",
   "execution_count": 1481,
   "id": "6c7cbbef",
   "metadata": {},
   "outputs": [
    {
     "name": "stdout",
     "output_type": "stream",
     "text": [
      "              precision    recall  f1-score   support\n",
      "\n",
      "           0       1.00      0.85      0.92       220\n",
      "           1       0.83      1.00      0.91       155\n",
      "\n",
      "    accuracy                           0.91       375\n",
      "   macro avg       0.91      0.93      0.91       375\n",
      "weighted avg       0.93      0.91      0.92       375\n",
      "\n"
     ]
    }
   ],
   "source": [
    "print(classification_report(y_train_b, final_train_preds))"
   ]
  },
  {
   "cell_type": "code",
   "execution_count": 1482,
   "id": "f9617e66",
   "metadata": {},
   "outputs": [],
   "source": [
    "final_valid_preds = master_model.predict(valid_master_X)"
   ]
  },
  {
   "cell_type": "code",
   "execution_count": 1483,
   "id": "7b0df760",
   "metadata": {},
   "outputs": [
    {
     "name": "stdout",
     "output_type": "stream",
     "text": [
      "              precision    recall  f1-score   support\n",
      "\n",
      "           0       0.77      0.68      0.72        79\n",
      "           1       0.55      0.65      0.59        46\n",
      "\n",
      "    accuracy                           0.67       125\n",
      "   macro avg       0.66      0.67      0.66       125\n",
      "weighted avg       0.69      0.67      0.68       125\n",
      "\n"
     ]
    }
   ],
   "source": [
    "print(classification_report(y_valid_b, final_valid_preds))"
   ]
  },
  {
   "cell_type": "code",
   "execution_count": 1484,
   "id": "f7b89581",
   "metadata": {},
   "outputs": [],
   "source": [
    "final_test_preds = master_model.predict(test_master_X)"
   ]
  },
  {
   "cell_type": "code",
   "execution_count": 1485,
   "id": "fed68eb4",
   "metadata": {},
   "outputs": [
    {
     "data": {
      "text/plain": [
       "0.5564516129032258"
      ]
     },
     "execution_count": 1485,
     "metadata": {},
     "output_type": "execute_result"
    }
   ],
   "source": [
    "sum(final_test_preds) / len(final_test_preds)"
   ]
  },
  {
   "cell_type": "code",
   "execution_count": 1486,
   "id": "ec734f8b",
   "metadata": {},
   "outputs": [
    {
     "name": "stdout",
     "output_type": "stream",
     "text": [
      "              precision    recall  f1-score   support\n",
      "\n",
      "           0       0.89      0.65      0.75        75\n",
      "           1       0.62      0.88      0.73        49\n",
      "\n",
      "    accuracy                           0.74       124\n",
      "   macro avg       0.76      0.77      0.74       124\n",
      "weighted avg       0.79      0.74      0.74       124\n",
      "\n"
     ]
    }
   ],
   "source": [
    "print(classification_report(y_test_b, final_test_preds))"
   ]
  },
  {
   "cell_type": "code",
   "execution_count": 1404,
   "id": "7a49927f",
   "metadata": {},
   "outputs": [],
   "source": [
    "# Vrushank to-do: \n",
    "# refactor data, use k-fold"
   ]
  },
  {
   "cell_type": "code",
   "execution_count": null,
   "id": "4c0a5d03",
   "metadata": {},
   "outputs": [],
   "source": []
  }
 ],
 "metadata": {
  "kernelspec": {
   "display_name": "Python 3 (ipykernel)",
   "language": "python",
   "name": "python3"
  },
  "language_info": {
   "codemirror_mode": {
    "name": "ipython",
    "version": 3
   },
   "file_extension": ".py",
   "mimetype": "text/x-python",
   "name": "python",
   "nbconvert_exporter": "python",
   "pygments_lexer": "ipython3",
   "version": "3.11.6"
  }
 },
 "nbformat": 4,
 "nbformat_minor": 5
}
