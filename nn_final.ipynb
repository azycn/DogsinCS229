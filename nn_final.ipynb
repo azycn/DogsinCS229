{
 "cells": [
  {
   "cell_type": "code",
   "execution_count": 1,
   "metadata": {},
   "outputs": [],
   "source": [
    "import numpy as np\n",
    "import pandas as pd\n",
    "import json\n",
    "\n",
    "import matplotlib.pyplot as plt\n",
    "\n",
    "import torch\n",
    "import torch.nn as nn\n",
    "import torch.nn.functional as F\n",
    "import torch.optim as optim\n",
    "from sklearn.metrics import accuracy_score, cohen_kappa_score, f1_score, classification_report\n"
   ]
  },
  {
   "cell_type": "code",
   "execution_count": 2,
   "metadata": {},
   "outputs": [],
   "source": [
    "def load_dataset(label_path):\n",
    "    label = pd.read_csv(label_path)\n",
    "    label = label.drop(columns=['Unnamed: 0'])\n",
    "    dataset = label\n",
    "\n",
    "    # load embeddings\n",
    "    with open('./dataset_work/embeddings.json') as f:\n",
    "        embeddings = json.load(f)\n",
    "    all_embeddings = pd.DataFrame.from_dict(embeddings, orient='index', columns=['embedding'])\n",
    "    all_embeddings.index.name = 'id'\n",
    "    dataset = pd.merge(dataset, all_embeddings, on='id', how='left')\n",
    "\n",
    "    # load personalities\n",
    "    with open('./dataset_work/personalities.json') as f:\n",
    "        personalities = json.load(f)\n",
    "    all_personalities = pd.DataFrame.from_dict(personalities, orient='index', columns=['playfulness', 'chase-proneness', 'curiosity', 'sociability', 'aggressiveness', 'shyness'])\n",
    "    all_personalities.index.name = 'id'\n",
    "    dataset = pd.merge(dataset, all_personalities, on='id', how='left')\n",
    "\n",
    "    return dataset"
   ]
  },
  {
   "cell_type": "code",
   "execution_count": 3,
   "metadata": {},
   "outputs": [],
   "source": [
    "def vectorize_dataset(df, with_personalities, with_embeddings):\n",
    "    if with_personalities and with_embeddings:\n",
    "        cols = df[['embedding','playfulness', 'chase-proneness', 'curiosity', 'sociability', 'aggressiveness', 'shyness']]\n",
    "        x = cols.values\n",
    "        embeddings = x[:,0]\n",
    "        expanded = np.array(embeddings.tolist())\n",
    "        x = np.concatenate((expanded, x[:,1:]), axis=1)\n",
    "        x = np.array(x, dtype='float64')\n",
    "        y = df['label'].values\n",
    "    elif with_embeddings:\n",
    "        cols = df[['embedding','playfulness', 'chase-proneness', 'curiosity', 'sociability', 'aggressiveness', 'shyness']]\n",
    "        x = cols.values\n",
    "        embeddings = x[:,0]\n",
    "        expanded = np.array(embeddings.tolist())\n",
    "        x = expanded\n",
    "        y = df['label'].values\n",
    "    else:\n",
    "        cols = df[['embedding','playfulness', 'chase-proneness', 'curiosity', 'sociability', 'aggressiveness', 'shyness']]\n",
    "        x = cols.values\n",
    "        x = x[:,1:]\n",
    "        x = np.array(x, dtype=\"float64\")\n",
    "        y = df['label'].values\n",
    "    return torch.tensor(x, dtype=torch.float32), torch.tensor(y, dtype=torch.float32).reshape(-1, 1)\n",
    "\n",
    "\n",
    "        "
   ]
  },
  {
   "cell_type": "code",
   "execution_count": 4,
   "metadata": {},
   "outputs": [],
   "source": [
    "class Net(nn.Module):\n",
    "\n",
    "    def __init__(self, INPUT_SIZE):\n",
    "        super(Net, self).__init__()\n",
    "        # Input is output of resnet18 image classification model\n",
    "        self.fc1 = nn.Linear(INPUT_SIZE, 500) \n",
    "        self.fc11 = nn.Linear(500, 100)\n",
    "        self.fc2 = nn.Linear(100, 1)\n",
    "        self.act_out = nn.Sigmoid()\n",
    "\n",
    "    def forward(self, x):\n",
    "        x = F.relu(self.fc1(x))\n",
    "        x = F.relu(self.fc11(x))\n",
    "        x = self.act_out(self.fc2(x))\n",
    "        return x"
   ]
  },
  {
   "cell_type": "code",
   "execution_count": 5,
   "metadata": {},
   "outputs": [],
   "source": [
    "def train_loop(x_train, y_train, x_valid, y_valid, model, loss_fn, optimizer, batch_size, epoch_max):\n",
    "    n_examples = x_train.shape[0]\n",
    "    train_loss = np.zeros(epoch_max)\n",
    "    valid_loss = np.zeros(epoch_max)\n",
    "    for epoch in range(epoch_max):\n",
    "        print(f\"\\033[1m-----------Epoch {epoch}------------\\033[0m\")\n",
    "        for i in range(0, (n_examples // batch_size) + 1):\n",
    "            x_slice = x_train[i:min(i+batch_size, n_examples), :]\n",
    "            y_slice = y_train[i:min(i+batch_size, n_examples)]\n",
    "            y_pred = model(x_slice)\n",
    "            loss = loss_fn(y_pred, y_slice)\n",
    "            optimizer.zero_grad()\n",
    "            loss.backward()\n",
    "            optimizer.step()\n",
    "        \n",
    "        # ------- Graphing --------\n",
    "        y_pred_train = model(x_train)\n",
    "        y_pred_valid = model(x_valid)\n",
    "\n",
    "\n",
    "        train_acc = (y_pred_train.round() == y_train).float().mean()\n",
    "        valid_acc = (y_pred_valid.round() == y_valid).float().mean()\n",
    "\n",
    "        train_loss[epoch] = train_acc\n",
    "        valid_loss[epoch] = valid_acc\n",
    "        # train_loss[epoch] = loss_fn(y_pred_train, y_train)\n",
    "        # valid_loss[epoch] = loss_fn(y_pred_valid, y_valid)\n",
    "        print(f\"loss = {loss}\")\n",
    "    return train_loss, valid_loss"
   ]
  },
  {
   "cell_type": "code",
   "execution_count": 6,
   "metadata": {},
   "outputs": [],
   "source": [
    "# --------- Images Only ---------\n",
    "train = load_dataset('dataset_work/labels/image_only/alice_train_personalityFalse_imageTrue_labels.csv')\n",
    "test = load_dataset('dataset_work/labels/image_only/alice_test_personalityFalse_imageTrue_labels.csv')\n",
    "valid = load_dataset('dataset_work/labels/image_only/alice_valid_personalityFalse_imageTrue_labels.csv')\n",
    "\n",
    "images = True\n",
    "personalities = False\n",
    "train_x_t, train_y_t = vectorize_dataset(train, personalities,images )\n",
    "valid_x_t, valid_y_t = vectorize_dataset(valid,personalities,images )\n",
    "test_x_t, test_y_t = vectorize_dataset(test, personalities,images )\n",
    "\n"
   ]
  },
  {
   "cell_type": "code",
   "execution_count": 105,
   "metadata": {},
   "outputs": [],
   "source": [
    "# --------- Both ---------\n",
    "train = load_dataset('dataset_work/labels/image_and_personality/alice_train_personalityTrue_imageTrue_labels.csv')\n",
    "test = load_dataset('dataset_work/labels/image_and_personality/alice_test_personalityTrue_imageTrue_labels.csv')\n",
    "valid = load_dataset('dataset_work/labels/image_and_personality/alice_valid_personalityTrue_imageTrue_labels.csv')\n",
    "\n",
    "images = True\n",
    "personalities = True\n",
    "train_x_t, train_y_t = vectorize_dataset(train, personalities,images )\n",
    "valid_x_t, valid_y_t = vectorize_dataset(valid,personalities,images )\n",
    "test_x_t, test_y_t = vectorize_dataset(test, personalities,images )\n"
   ]
  },
  {
   "cell_type": "code",
   "execution_count": 138,
   "metadata": {},
   "outputs": [],
   "source": [
    "# --------- Personalities Only ---------\n",
    "train = load_dataset('dataset_work/labels/personality_only/alice_train_personalityTrue_imageFalse_labels.csv')\n",
    "test = load_dataset('dataset_work/labels/personality_only/alice_test_personalityTrue_imageFalse_labels.csv')\n",
    "valid = load_dataset('dataset_work/labels/personality_only/alice_valid_personalityTrue_imageFalse_labels.csv')\n",
    "\n",
    "images = False\n",
    "personalities = True\n",
    "train_x_t, train_y_t = vectorize_dataset(train, personalities,images )\n",
    "valid_x_t, valid_y_t = vectorize_dataset(valid,personalities,images )\n",
    "test_x_t, test_y_t = vectorize_dataset(test, personalities,images )"
   ]
  },
  {
   "cell_type": "code",
   "execution_count": 7,
   "metadata": {},
   "outputs": [
    {
     "name": "stdout",
     "output_type": "stream",
     "text": [
      "tensor([[ 1.6525, -0.9155, -1.9511,  ..., -3.5392, -0.8730, -0.4325],\n",
      "        [ 0.0392, -2.9134, -1.0437,  ..., -3.1635,  0.8747,  0.6386],\n",
      "        [ 0.1424,  0.6667,  2.1767,  ...,  1.6847,  1.0635, -1.6189],\n",
      "        ...,\n",
      "        [-0.9172, -2.3558,  0.3953,  ..., -3.1632,  1.4075, -0.1426],\n",
      "        [-2.8537, -2.1900, -1.7956,  ...,  2.3400,  4.3475,  2.6733],\n",
      "        [-4.9119, -1.9143, -1.5451,  ..., -3.1597,  0.6036,  0.3349]])\n",
      "torch.Size([375, 1000])\n"
     ]
    }
   ],
   "source": [
    "print(train_x_t)\n",
    "print(train_x_t.shape)"
   ]
  },
  {
   "cell_type": "code",
   "execution_count": 10,
   "metadata": {},
   "outputs": [
    {
     "name": "stdout",
     "output_type": "stream",
     "text": [
      "              precision    recall  f1-score   support\n",
      "\n",
      "         0.0       0.77      0.75      0.76        75\n",
      "         1.0       0.63      0.65      0.64        49\n",
      "\n",
      "    accuracy                           0.71       124\n",
      "   macro avg       0.70      0.70      0.70       124\n",
      "weighted avg       0.71      0.71      0.71       124\n",
      "\n"
     ]
    }
   ],
   "source": [
    "model = Net(train_x_t.shape[1])\n",
    "loss_fn = nn.MSELoss()\n",
    "loss_nm = \"MSE\"\n",
    "reg = 0.001\n",
    "lr = 0.0001\n",
    "optimizer = optim.Adam(model.parameters(), lr=lr, weight_decay=reg)\n",
    "optim_nm = \"adam\"\n",
    "n_epochs = 100\n",
    "batch_size = train_x_t.shape[1]\n",
    "train_loss, valid_loss = train_loop(train_x_t, train_y_t, valid_x_t, valid_y_t, model, loss_fn, optimizer, batch_size, n_epochs)\n",
    "\n",
    "# Predict\n",
    "y_pred_train = model(train_x_t)\n",
    "y_pred_test = model(test_x_t)\n",
    "y_pred_valid = model(valid_x_t)\n",
    "\n",
    "print(classification_report(y_pred_valid.round().detach(), valid_y_t.detach()))\n",
    "f1 = classification_report(y_pred_valid.round().detach(), valid_y_t.detach(), output_dict=True)[\"weighted avg\"]['f1-score']\n",
    "\n",
    "\n",
    "\n",
    "# --- Save model ------------\n",
    "folder = \"./trained_models/\"\n",
    "description = f\"alice_medium_images_{images}_personalities_{personalities}\"\n",
    "total_name = f\"{folder}{description}_optm_{optim_nm}_loss_{loss_nm}_EPOCHS_{n_epochs}_BATCH_{batch_size}_REG_{reg}_LR_{lr}_f1_{f1}\"\n",
    "torch.save(model.state_dict(), total_name)"
   ]
  },
  {
   "cell_type": "code",
   "execution_count": 14,
   "metadata": {},
   "outputs": [
    {
     "name": "stdout",
     "output_type": "stream",
     "text": [
      "tensor([0.3952], grad_fn=<DivBackward0>)\n"
     ]
    }
   ],
   "source": [
    "print(sum(y_pred_valid.round())/ len(y_pred_valid))"
   ]
  },
  {
   "cell_type": "code",
   "execution_count": 12,
   "metadata": {},
   "outputs": [
    {
     "name": "stdout",
     "output_type": "stream",
     "text": [
      "tensor([0.3920])\n"
     ]
    }
   ],
   "source": [
    "print(sum(train_y_t) / len(train_y_t))"
   ]
  },
  {
   "cell_type": "code",
   "execution_count": 15,
   "metadata": {},
   "outputs": [
    {
     "data": {
      "image/png": "[encoded data removed]",
      "text/plain": [
       "<Figure size 640x480 with 1 Axes>"
      ]
     },
     "metadata": {},
     "output_type": "display_data"
    }
   ],
   "source": [
    "# ----------- Plotting data ---------------\n",
    "epoch_nums = np.arange(n_epochs)\n",
    "plt.plot(epoch_nums, train_loss, label=\"train_accuracy\")\n",
    "plt.plot(epoch_nums, valid_loss, label=\"valid_accuracy\")\n",
    "plt.legend()\n",
    "plt.xlabel(\"epoch\")\n",
    "plt.ylabel(\"accuracy\")\n",
    "plt.title(f\"Personalities_{personalities}_Images_{images}_lr={lr}_reg={reg}\")\n",
    "plt.savefig(f'{total_name}.png')\n",
    "plt.show()"
   ]
  },
  {
   "cell_type": "code",
   "execution_count": 71,
   "metadata": {},
   "outputs": [
    {
     "name": "stdout",
     "output_type": "stream",
     "text": [
      "-------Accuracy------------\n",
      "Train Accuracy = 0.8666666746139526\n",
      "Valid Accuracy = 0.6774193644523621\n",
      "Test Accuracy = 0.7200000286102295\n"
     ]
    }
   ],
   "source": [
    "\n",
    "plt.savefig(f\"{total_name}.jpg\")\n",
    "\n",
    "                    "
   ]
  },
  {
   "cell_type": "code",
   "execution_count": 201,
   "metadata": {},
   "outputs": [
    {
     "ename": "KeyboardInterrupt",
     "evalue": "",
     "output_type": "error",
     "traceback": [
      "\u001b[0;31m---------------------------------------------------------------------------\u001b[0m",
      "\u001b[0;31mKeyboardInterrupt\u001b[0m                         Traceback (most recent call last)",
      "\u001b[1;32m/Users/spencerwallace/DogsinCS229/nn_final.ipynb Cell 14\u001b[0m line \u001b[0;36m1\n\u001b[1;32m      <a href='vscode-notebook-cell:/Users/spencerwallace/DogsinCS229/nn_final.ipynb#X21sZmlsZQ%3D%3D?line=7'>8</a>\u001b[0m optimizer \u001b[39m=\u001b[39m optim\u001b[39m.\u001b[39mAdam(model\u001b[39m.\u001b[39mparameters(), lr\u001b[39m=\u001b[39mlr, weight_decay\u001b[39m=\u001b[39mreg)\n\u001b[1;32m      <a href='vscode-notebook-cell:/Users/spencerwallace/DogsinCS229/nn_final.ipynb#X21sZmlsZQ%3D%3D?line=8'>9</a>\u001b[0m batch_size \u001b[39m=\u001b[39m train_x_t\u001b[39m.\u001b[39mshape[\u001b[39m1\u001b[39m]\n\u001b[0;32m---> <a href='vscode-notebook-cell:/Users/spencerwallace/DogsinCS229/nn_final.ipynb#X21sZmlsZQ%3D%3D?line=9'>10</a>\u001b[0m train_loss, valid_loss \u001b[39m=\u001b[39m train_loop(train_x_t, train_y_t, valid_x_t, valid_y_t, model, loss_fn, optimizer, batch_size, epoch)\n\u001b[1;32m     <a href='vscode-notebook-cell:/Users/spencerwallace/DogsinCS229/nn_final.ipynb#X21sZmlsZQ%3D%3D?line=11'>12</a>\u001b[0m \u001b[39m# Predict\u001b[39;00m\n\u001b[1;32m     <a href='vscode-notebook-cell:/Users/spencerwallace/DogsinCS229/nn_final.ipynb#X21sZmlsZQ%3D%3D?line=12'>13</a>\u001b[0m y_pred_train \u001b[39m=\u001b[39m model(train_x_t)\n",
      "\u001b[1;32m/Users/spencerwallace/DogsinCS229/nn_final.ipynb Cell 14\u001b[0m line \u001b[0;36m1\n\u001b[1;32m     <a href='vscode-notebook-cell:/Users/spencerwallace/DogsinCS229/nn_final.ipynb#X21sZmlsZQ%3D%3D?line=13'>14</a>\u001b[0m     optimizer\u001b[39m.\u001b[39mstep()\n\u001b[1;32m     <a href='vscode-notebook-cell:/Users/spencerwallace/DogsinCS229/nn_final.ipynb#X21sZmlsZQ%3D%3D?line=15'>16</a>\u001b[0m \u001b[39m# ------- Graphing --------\u001b[39;00m\n\u001b[0;32m---> <a href='vscode-notebook-cell:/Users/spencerwallace/DogsinCS229/nn_final.ipynb#X21sZmlsZQ%3D%3D?line=16'>17</a>\u001b[0m y_pred_train \u001b[39m=\u001b[39m model(x_train)\n\u001b[1;32m     <a href='vscode-notebook-cell:/Users/spencerwallace/DogsinCS229/nn_final.ipynb#X21sZmlsZQ%3D%3D?line=17'>18</a>\u001b[0m y_pred_valid \u001b[39m=\u001b[39m model(x_valid)\n\u001b[1;32m     <a href='vscode-notebook-cell:/Users/spencerwallace/DogsinCS229/nn_final.ipynb#X21sZmlsZQ%3D%3D?line=20'>21</a>\u001b[0m train_acc \u001b[39m=\u001b[39m (y_pred_train\u001b[39m.\u001b[39mround() \u001b[39m==\u001b[39m y_train)\u001b[39m.\u001b[39mfloat()\u001b[39m.\u001b[39mmean()\n",
      "File \u001b[0;32m~/opt/anaconda3/envs/cs229_ps3/lib/python3.9/site-packages/torch/nn/modules/module.py:1194\u001b[0m, in \u001b[0;36mModule._call_impl\u001b[0;34m(self, *input, **kwargs)\u001b[0m\n\u001b[1;32m   1190\u001b[0m \u001b[39m# If we don't have any hooks, we want to skip the rest of the logic in\u001b[39;00m\n\u001b[1;32m   1191\u001b[0m \u001b[39m# this function, and just call forward.\u001b[39;00m\n\u001b[1;32m   1192\u001b[0m \u001b[39mif\u001b[39;00m \u001b[39mnot\u001b[39;00m (\u001b[39mself\u001b[39m\u001b[39m.\u001b[39m_backward_hooks \u001b[39mor\u001b[39;00m \u001b[39mself\u001b[39m\u001b[39m.\u001b[39m_forward_hooks \u001b[39mor\u001b[39;00m \u001b[39mself\u001b[39m\u001b[39m.\u001b[39m_forward_pre_hooks \u001b[39mor\u001b[39;00m _global_backward_hooks\n\u001b[1;32m   1193\u001b[0m         \u001b[39mor\u001b[39;00m _global_forward_hooks \u001b[39mor\u001b[39;00m _global_forward_pre_hooks):\n\u001b[0;32m-> 1194\u001b[0m     \u001b[39mreturn\u001b[39;00m forward_call(\u001b[39m*\u001b[39;49m\u001b[39minput\u001b[39;49m, \u001b[39m*\u001b[39;49m\u001b[39m*\u001b[39;49mkwargs)\n\u001b[1;32m   1195\u001b[0m \u001b[39m# Do not call functions when jit is used\u001b[39;00m\n\u001b[1;32m   1196\u001b[0m full_backward_hooks, non_full_backward_hooks \u001b[39m=\u001b[39m [], []\n",
      "\u001b[1;32m/Users/spencerwallace/DogsinCS229/nn_final.ipynb Cell 14\u001b[0m line \u001b[0;36m1\n\u001b[1;32m     <a href='vscode-notebook-cell:/Users/spencerwallace/DogsinCS229/nn_final.ipynb#X21sZmlsZQ%3D%3D?line=10'>11</a>\u001b[0m \u001b[39mdef\u001b[39;00m \u001b[39mforward\u001b[39m(\u001b[39mself\u001b[39m, x):\n\u001b[1;32m     <a href='vscode-notebook-cell:/Users/spencerwallace/DogsinCS229/nn_final.ipynb#X21sZmlsZQ%3D%3D?line=11'>12</a>\u001b[0m     x \u001b[39m=\u001b[39m F\u001b[39m.\u001b[39mrelu(\u001b[39mself\u001b[39m\u001b[39m.\u001b[39mfc1(x))\n\u001b[0;32m---> <a href='vscode-notebook-cell:/Users/spencerwallace/DogsinCS229/nn_final.ipynb#X21sZmlsZQ%3D%3D?line=12'>13</a>\u001b[0m     x \u001b[39m=\u001b[39m F\u001b[39m.\u001b[39mrelu(\u001b[39mself\u001b[39;49m\u001b[39m.\u001b[39;49mfc11(x))\n\u001b[1;32m     <a href='vscode-notebook-cell:/Users/spencerwallace/DogsinCS229/nn_final.ipynb#X21sZmlsZQ%3D%3D?line=13'>14</a>\u001b[0m     x \u001b[39m=\u001b[39m \u001b[39mself\u001b[39m\u001b[39m.\u001b[39mact_out(\u001b[39mself\u001b[39m\u001b[39m.\u001b[39mfc2(x))\n\u001b[1;32m     <a href='vscode-notebook-cell:/Users/spencerwallace/DogsinCS229/nn_final.ipynb#X21sZmlsZQ%3D%3D?line=14'>15</a>\u001b[0m     \u001b[39mreturn\u001b[39;00m x\n",
      "File \u001b[0;32m~/opt/anaconda3/envs/cs229_ps3/lib/python3.9/site-packages/torch/nn/modules/module.py:1194\u001b[0m, in \u001b[0;36mModule._call_impl\u001b[0;34m(self, *input, **kwargs)\u001b[0m\n\u001b[1;32m   1190\u001b[0m \u001b[39m# If we don't have any hooks, we want to skip the rest of the logic in\u001b[39;00m\n\u001b[1;32m   1191\u001b[0m \u001b[39m# this function, and just call forward.\u001b[39;00m\n\u001b[1;32m   1192\u001b[0m \u001b[39mif\u001b[39;00m \u001b[39mnot\u001b[39;00m (\u001b[39mself\u001b[39m\u001b[39m.\u001b[39m_backward_hooks \u001b[39mor\u001b[39;00m \u001b[39mself\u001b[39m\u001b[39m.\u001b[39m_forward_hooks \u001b[39mor\u001b[39;00m \u001b[39mself\u001b[39m\u001b[39m.\u001b[39m_forward_pre_hooks \u001b[39mor\u001b[39;00m _global_backward_hooks\n\u001b[1;32m   1193\u001b[0m         \u001b[39mor\u001b[39;00m _global_forward_hooks \u001b[39mor\u001b[39;00m _global_forward_pre_hooks):\n\u001b[0;32m-> 1194\u001b[0m     \u001b[39mreturn\u001b[39;00m forward_call(\u001b[39m*\u001b[39;49m\u001b[39minput\u001b[39;49m, \u001b[39m*\u001b[39;49m\u001b[39m*\u001b[39;49mkwargs)\n\u001b[1;32m   1195\u001b[0m \u001b[39m# Do not call functions when jit is used\u001b[39;00m\n\u001b[1;32m   1196\u001b[0m full_backward_hooks, non_full_backward_hooks \u001b[39m=\u001b[39m [], []\n",
      "File \u001b[0;32m~/opt/anaconda3/envs/cs229_ps3/lib/python3.9/site-packages/torch/nn/modules/linear.py:114\u001b[0m, in \u001b[0;36mLinear.forward\u001b[0;34m(self, input)\u001b[0m\n\u001b[1;32m    113\u001b[0m \u001b[39mdef\u001b[39;00m \u001b[39mforward\u001b[39m(\u001b[39mself\u001b[39m, \u001b[39minput\u001b[39m: Tensor) \u001b[39m-\u001b[39m\u001b[39m>\u001b[39m Tensor:\n\u001b[0;32m--> 114\u001b[0m     \u001b[39mreturn\u001b[39;00m F\u001b[39m.\u001b[39;49mlinear(\u001b[39minput\u001b[39;49m, \u001b[39mself\u001b[39;49m\u001b[39m.\u001b[39;49mweight, \u001b[39mself\u001b[39;49m\u001b[39m.\u001b[39;49mbias)\n",
      "\u001b[0;31mKeyboardInterrupt\u001b[0m: "
     ]
    }
   ],
   "source": [
    "model = Net(train_x_t.shape[1])\n",
    "\n",
    "f1_max = 0\n",
    "params = (0, 0, 0)\n",
    "for epoch in range(50, 90, 5):\n",
    "    for lr in [0.001,0.0001]:\n",
    "        for reg in [0.001,0.0001]:\n",
    "            optimizer = optim.Adam(model.parameters(), lr=lr, weight_decay=reg)\n",
    "            batch_size = train_x_t.shape[1]\n",
    "            train_loss, valid_loss = train_loop(train_x_t, train_y_t, valid_x_t, valid_y_t, model, loss_fn, optimizer, batch_size, epoch)\n",
    "\n",
    "            # Predict\n",
    "            y_pred_train = model(train_x_t)\n",
    "            y_pred_test = model(test_x_t)\n",
    "            y_pred_valid = model(valid_x_t)\n",
    "\n",
    "            f1 = classification_report(y_pred_test.round().detach(), test_y_t.detach(), output_dict=True)[\"weighted avg\"]['f1-score']\n",
    "\n",
    "            # train_acc = (y_pred_train.round() == train_y_t).float().mean()\n",
    "            # valid_acc = (y_pred_valid.round() == valid_y_t).float().mean()\n",
    "            # test_acc = (y_pred_test.round() == test_y_t).float().mean()\n",
    "            print(f\"cur{(epoch, lr, reg)}\")\n",
    "            if f1 > f1_max:\n",
    "                f1_max= f1\n",
    "                params = (epoch, lr, reg)\n",
    "            print(params)\n",
    "            print(test_acc_max)\n",
    "print(params)\n",
    "\n",
    "\n",
    "            "
   ]
  },
  {
   "cell_type": "code",
   "execution_count": null,
   "metadata": {},
   "outputs": [],
   "source": []
  }
 ],
 "metadata": {
  "kernelspec": {
   "display_name": "cs229_ps3",
   "language": "python",
   "name": "python3"
  },
  "language_info": {
   "codemirror_mode": {
    "name": "ipython",
    "version": 3
   },
   "file_extension": ".py",
   "mimetype": "text/x-python",
   "name": "python",
   "nbconvert_exporter": "python",
   "pygments_lexer": "ipython3",
   "version": "3.9.18"
  }
 },
 "nbformat": 4,
 "nbformat_minor": 2
}
